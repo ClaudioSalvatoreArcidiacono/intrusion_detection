{
 "cells": [
  {
   "cell_type": "code",
   "execution_count": 1,
   "metadata": {},
   "outputs": [],
   "source": [
    "%matplotlib inline\n",
    "\n",
    "import pandas as pd\n",
    "import numpy as np\n",
    "from jupyterthemes import jtplot\n",
    "import seaborn as sns\n",
    "jtplot.style()\n",
    "import warnings\n",
    "warnings.filterwarnings('ignore')"
   ]
  },
  {
   "cell_type": "markdown",
   "metadata": {},
   "source": [
    "# Prepare the data"
   ]
  },
  {
   "cell_type": "markdown",
   "metadata": {},
   "source": [
    "## Download the data"
   ]
  },
  {
   "cell_type": "code",
   "execution_count": 2,
   "metadata": {},
   "outputs": [
    {
     "name": "stdout",
     "output_type": "stream",
     "text": [
      "--2020-10-15 11:37:05--  http://kdd.ics.uci.edu/databases/kddcup99/kddcup.data_10_percent.gz\n",
      "Resolving localhost (localhost)... ::1, 127.0.0.1\n",
      "Connecting to localhost (localhost)|::1|:3128... connected.\n",
      "Proxy request sent, awaiting response... 200 OK\n",
      "Length: 2144903 (2,0M) [application/x-gzip]\n",
      "Saving to: ‘kddcup.data_10_percent.gz’\n",
      "\n",
      "kddcup.data_10_perc 100%[===================>]   2,04M  2,88MB/s    in 0,7s    \n",
      "\n",
      "2020-10-15 11:37:06 (2,88 MB/s) - ‘kddcup.data_10_percent.gz’ saved [2144903/2144903]\n",
      "\n",
      "--2020-10-15 11:37:07--  http://kdd.ics.uci.edu/databases/kddcup99/kddcup.names\n",
      "Resolving localhost (localhost)... ::1, 127.0.0.1\n",
      "Connecting to localhost (localhost)|::1|:3128... connected.\n",
      "Proxy request sent, awaiting response... 200 OK\n",
      "Length: 1307 (1,3K)\n",
      "Saving to: ‘kddcup.names’\n",
      "\n",
      "kddcup.names        100%[===================>]   1,28K  --.-KB/s    in 0s      \n",
      "\n",
      "2020-10-15 11:37:07 (138 MB/s) - ‘kddcup.names’ saved [1307/1307]\n",
      "\n",
      "gunzip: data/kddcup.data_10_percent already exists -- skipping\n"
     ]
    }
   ],
   "source": [
    "! wget -N http://kdd.ics.uci.edu/databases/kddcup99/kddcup.data_10_percent.gz\n",
    "! wget -N http://kdd.ics.uci.edu/databases/kddcup99/kddcup.names\n",
    "! mv kddcup* data\n",
    "! echo n | gunzip data/kddcup.data_10_percent.gz"
   ]
  },
  {
   "cell_type": "markdown",
   "metadata": {},
   "source": [
    "## Read the Data"
   ]
  },
  {
   "cell_type": "code",
   "execution_count": 3,
   "metadata": {},
   "outputs": [],
   "source": [
    "def load_df(\n",
    "    file_path=\"data/kddcup.data_10_percent\", \n",
    "    header_file=\"data/kddcup.names\",\n",
    "    sample=1\n",
    "):\n",
    "    with open(header_file) as header_file:\n",
    "        header_raw = header_file.readlines()\n",
    "    column_names = [h.split(':')[0] for h in header_raw[1:]]\n",
    "    df = pd.read_csv(file_path, names=column_names)\n",
    "    return df.sample(frac=sample)"
   ]
  },
  {
   "cell_type": "code",
   "execution_count": 4,
   "metadata": {},
   "outputs": [],
   "source": [
    "df = load_df()"
   ]
  },
  {
   "cell_type": "code",
   "execution_count": 5,
   "metadata": {},
   "outputs": [
    {
     "data": {
      "text/html": [
       "<div>\n",
       "<style scoped>\n",
       "    .dataframe tbody tr th:only-of-type {\n",
       "        vertical-align: middle;\n",
       "    }\n",
       "\n",
       "    .dataframe tbody tr th {\n",
       "        vertical-align: top;\n",
       "    }\n",
       "\n",
       "    .dataframe thead th {\n",
       "        text-align: right;\n",
       "    }\n",
       "</style>\n",
       "<table border=\"1\" class=\"dataframe\">\n",
       "  <thead>\n",
       "    <tr style=\"text-align: right;\">\n",
       "      <th></th>\n",
       "      <th>duration</th>\n",
       "      <th>protocol_type</th>\n",
       "      <th>service</th>\n",
       "      <th>flag</th>\n",
       "      <th>src_bytes</th>\n",
       "      <th>dst_bytes</th>\n",
       "      <th>land</th>\n",
       "      <th>wrong_fragment</th>\n",
       "      <th>urgent</th>\n",
       "      <th>hot</th>\n",
       "      <th>...</th>\n",
       "      <th>dst_host_count</th>\n",
       "      <th>dst_host_srv_count</th>\n",
       "      <th>dst_host_same_srv_rate</th>\n",
       "      <th>dst_host_diff_srv_rate</th>\n",
       "      <th>dst_host_same_src_port_rate</th>\n",
       "      <th>dst_host_srv_diff_host_rate</th>\n",
       "      <th>dst_host_serror_rate</th>\n",
       "      <th>dst_host_srv_serror_rate</th>\n",
       "      <th>dst_host_rerror_rate</th>\n",
       "      <th>dst_host_srv_rerror_rate</th>\n",
       "    </tr>\n",
       "  </thead>\n",
       "  <tbody>\n",
       "    <tr>\n",
       "      <th>0</th>\n",
       "      <td>tcp</td>\n",
       "      <td>private</td>\n",
       "      <td>S0</td>\n",
       "      <td>0</td>\n",
       "      <td>0</td>\n",
       "      <td>0</td>\n",
       "      <td>0</td>\n",
       "      <td>0</td>\n",
       "      <td>0</td>\n",
       "      <td>0</td>\n",
       "      <td>...</td>\n",
       "      <td>7</td>\n",
       "      <td>0.03</td>\n",
       "      <td>0.09</td>\n",
       "      <td>0.0</td>\n",
       "      <td>0.0</td>\n",
       "      <td>1.0</td>\n",
       "      <td>1.0</td>\n",
       "      <td>0.0</td>\n",
       "      <td>0.0</td>\n",
       "      <td>neptune.</td>\n",
       "    </tr>\n",
       "    <tr>\n",
       "      <th>0</th>\n",
       "      <td>icmp</td>\n",
       "      <td>ecr_i</td>\n",
       "      <td>SF</td>\n",
       "      <td>520</td>\n",
       "      <td>0</td>\n",
       "      <td>0</td>\n",
       "      <td>0</td>\n",
       "      <td>0</td>\n",
       "      <td>0</td>\n",
       "      <td>0</td>\n",
       "      <td>...</td>\n",
       "      <td>255</td>\n",
       "      <td>1.00</td>\n",
       "      <td>0.00</td>\n",
       "      <td>1.0</td>\n",
       "      <td>0.0</td>\n",
       "      <td>0.0</td>\n",
       "      <td>0.0</td>\n",
       "      <td>0.0</td>\n",
       "      <td>0.0</td>\n",
       "      <td>smurf.</td>\n",
       "    </tr>\n",
       "    <tr>\n",
       "      <th>469</th>\n",
       "      <td>udp</td>\n",
       "      <td>domain_u</td>\n",
       "      <td>SF</td>\n",
       "      <td>111</td>\n",
       "      <td>44</td>\n",
       "      <td>0</td>\n",
       "      <td>0</td>\n",
       "      <td>0</td>\n",
       "      <td>0</td>\n",
       "      <td>0</td>\n",
       "      <td>...</td>\n",
       "      <td>62</td>\n",
       "      <td>1.00</td>\n",
       "      <td>0.00</td>\n",
       "      <td>1.0</td>\n",
       "      <td>0.0</td>\n",
       "      <td>0.0</td>\n",
       "      <td>0.0</td>\n",
       "      <td>0.0</td>\n",
       "      <td>0.0</td>\n",
       "      <td>normal.</td>\n",
       "    </tr>\n",
       "    <tr>\n",
       "      <th>0</th>\n",
       "      <td>tcp</td>\n",
       "      <td>private</td>\n",
       "      <td>S0</td>\n",
       "      <td>0</td>\n",
       "      <td>0</td>\n",
       "      <td>0</td>\n",
       "      <td>0</td>\n",
       "      <td>0</td>\n",
       "      <td>0</td>\n",
       "      <td>0</td>\n",
       "      <td>...</td>\n",
       "      <td>6</td>\n",
       "      <td>0.02</td>\n",
       "      <td>0.06</td>\n",
       "      <td>0.0</td>\n",
       "      <td>0.0</td>\n",
       "      <td>1.0</td>\n",
       "      <td>1.0</td>\n",
       "      <td>0.0</td>\n",
       "      <td>0.0</td>\n",
       "      <td>neptune.</td>\n",
       "    </tr>\n",
       "    <tr>\n",
       "      <th>0</th>\n",
       "      <td>icmp</td>\n",
       "      <td>ecr_i</td>\n",
       "      <td>SF</td>\n",
       "      <td>1032</td>\n",
       "      <td>0</td>\n",
       "      <td>0</td>\n",
       "      <td>0</td>\n",
       "      <td>0</td>\n",
       "      <td>0</td>\n",
       "      <td>0</td>\n",
       "      <td>...</td>\n",
       "      <td>255</td>\n",
       "      <td>1.00</td>\n",
       "      <td>0.00</td>\n",
       "      <td>1.0</td>\n",
       "      <td>0.0</td>\n",
       "      <td>0.0</td>\n",
       "      <td>0.0</td>\n",
       "      <td>0.0</td>\n",
       "      <td>0.0</td>\n",
       "      <td>smurf.</td>\n",
       "    </tr>\n",
       "  </tbody>\n",
       "</table>\n",
       "<p>5 rows × 41 columns</p>\n",
       "</div>"
      ],
      "text/plain": [
       "    duration protocol_type service  flag  src_bytes  dst_bytes  land  \\\n",
       "0        tcp       private      S0     0          0          0     0   \n",
       "0       icmp         ecr_i      SF   520          0          0     0   \n",
       "469      udp      domain_u      SF   111         44          0     0   \n",
       "0        tcp       private      S0     0          0          0     0   \n",
       "0       icmp         ecr_i      SF  1032          0          0     0   \n",
       "\n",
       "     wrong_fragment  urgent  hot  ...  dst_host_count  dst_host_srv_count  \\\n",
       "0                 0       0    0  ...               7                0.03   \n",
       "0                 0       0    0  ...             255                1.00   \n",
       "469               0       0    0  ...              62                1.00   \n",
       "0                 0       0    0  ...               6                0.02   \n",
       "0                 0       0    0  ...             255                1.00   \n",
       "\n",
       "     dst_host_same_srv_rate  dst_host_diff_srv_rate  \\\n",
       "0                      0.09                     0.0   \n",
       "0                      0.00                     1.0   \n",
       "469                    0.00                     1.0   \n",
       "0                      0.06                     0.0   \n",
       "0                      0.00                     1.0   \n",
       "\n",
       "     dst_host_same_src_port_rate  dst_host_srv_diff_host_rate  \\\n",
       "0                            0.0                          1.0   \n",
       "0                            0.0                          0.0   \n",
       "469                          0.0                          0.0   \n",
       "0                            0.0                          1.0   \n",
       "0                            0.0                          0.0   \n",
       "\n",
       "     dst_host_serror_rate  dst_host_srv_serror_rate  dst_host_rerror_rate  \\\n",
       "0                     1.0                       0.0                   0.0   \n",
       "0                     0.0                       0.0                   0.0   \n",
       "469                   0.0                       0.0                   0.0   \n",
       "0                     1.0                       0.0                   0.0   \n",
       "0                     0.0                       0.0                   0.0   \n",
       "\n",
       "     dst_host_srv_rerror_rate  \n",
       "0                    neptune.  \n",
       "0                      smurf.  \n",
       "469                   normal.  \n",
       "0                    neptune.  \n",
       "0                      smurf.  \n",
       "\n",
       "[5 rows x 41 columns]"
      ]
     },
     "execution_count": 5,
     "metadata": {},
     "output_type": "execute_result"
    }
   ],
   "source": [
    "df.head()"
   ]
  },
  {
   "cell_type": "markdown",
   "metadata": {},
   "source": [
    "## Choose the anomalous class"
   ]
  },
  {
   "cell_type": "code",
   "execution_count": 6,
   "metadata": {},
   "outputs": [
    {
     "data": {
      "text/plain": [
       "<AxesSubplot:xlabel='dst_host_srv_rerror_rate', ylabel='index'>"
      ]
     },
     "execution_count": 6,
     "metadata": {},
     "output_type": "execute_result"
    },
    {
     "data": {
      "image/png": "[encoded data removed]",
      "text/plain": [
       "<Figure size 460.8x403.2 with 1 Axes>"
      ]
     },
     "metadata": {},
     "output_type": "display_data"
    }
   ],
   "source": [
    "# Calculate the frequency for each class\n",
    "intrusion_types_freq = df[\"dst_host_srv_rerror_rate\"].value_counts() / df.count()[0]\n",
    "sns.barplot(\n",
    "    data=intrusion_types_freq.to_frame().reset_index(), \n",
    "    x='dst_host_srv_rerror_rate', \n",
    "    y='index'\n",
    ")\n"
   ]
  },
  {
   "cell_type": "markdown",
   "metadata": {},
   "source": [
    "`smurf` and `neptune` are DDOS attack type and for this reason the number of these connections are greater than the number of the normal connections.\n",
    "\n",
    "For the sake of our exercise, thoese two classes are going to be dropped from the dataset."
   ]
  },
  {
   "cell_type": "markdown",
   "metadata": {},
   "source": [
    "So, At this point we can say that anomalies are records that are classified as normal"
   ]
  },
  {
   "cell_type": "code",
   "execution_count": 7,
   "metadata": {},
   "outputs": [],
   "source": [
    "def prepare_dataset(df, anomaly_prob=.008):\n",
    "    # Remove DDOS Classes\n",
    "    df = df[~df[\"dst_host_srv_rerror_rate\"].isin([\"smurf.\", \"neptune.\"])]\n",
    "    df[\"anomaly\"] = (df[\"dst_host_srv_rerror_rate\"] != \"normal.\").astype(int)\n",
    "    df_anomaly = df[df[\"anomaly\"] == 1]\n",
    "    df_normal = df[df[\"anomaly\"] == 0]\n",
    "\n",
    "    df_anomaly = df_anomaly.sample(int(df_normal.count()[0] * anomaly_prob))\n",
    "    # merge the two df\n",
    "    df = df_normal.append(df_anomaly)\n",
    "    # shuffle\n",
    "    df = df.sample(frac=1).reset_index(drop=True)\n",
    "    \n",
    "    # Remove original column\n",
    "    df = df.drop('dst_host_srv_rerror_rate', axis=1)\n",
    "\n",
    "    return df"
   ]
  },
  {
   "cell_type": "code",
   "execution_count": 8,
   "metadata": {},
   "outputs": [],
   "source": [
    "df = prepare_dataset(df)"
   ]
  },
  {
   "cell_type": "markdown",
   "metadata": {},
   "source": [
    "## Categorical features encoding"
   ]
  },
  {
   "cell_type": "code",
   "execution_count": 9,
   "metadata": {},
   "outputs": [
    {
     "data": {
      "text/plain": [
       "duration         object\n",
       "protocol_type    object\n",
       "service          object\n",
       "dtype: object"
      ]
     },
     "execution_count": 9,
     "metadata": {},
     "output_type": "execute_result"
    }
   ],
   "source": [
    "df.dtypes[df.dtypes==object]"
   ]
  },
  {
   "cell_type": "markdown",
   "metadata": {},
   "source": [
    "### duration"
   ]
  },
  {
   "cell_type": "code",
   "execution_count": 10,
   "metadata": {},
   "outputs": [
    {
     "data": {
      "text/plain": [
       "tcp     77351\n",
       "udp     19293\n",
       "icmp     1412\n",
       "Name: duration, dtype: int64"
      ]
     },
     "execution_count": 10,
     "metadata": {},
     "output_type": "execute_result"
    }
   ],
   "source": [
    "df[\"duration\"].value_counts()"
   ]
  },
  {
   "cell_type": "markdown",
   "metadata": {},
   "source": [
    "Only 3 values, good candidate for one-hot-encoding"
   ]
  },
  {
   "cell_type": "markdown",
   "metadata": {},
   "source": [
    "### protocol_type"
   ]
  },
  {
   "cell_type": "code",
   "execution_count": 11,
   "metadata": {},
   "outputs": [
    {
     "data": {
      "text/plain": [
       "http        62076\n",
       "smtp         9598\n",
       "private      7595\n",
       "domain_u     5862\n",
       "other        5764\n",
       "ftp_data     3854\n",
       "urp_i         537\n",
       "eco_i         495\n",
       "finger        469\n",
       "ftp           398\n",
       "ntp_u         380\n",
       "ecr_i         363\n",
       "telnet        232\n",
       "auth          220\n",
       "pop_3          79\n",
       "time           53\n",
       "IRC            42\n",
       "urh_i          14\n",
       "X11             9\n",
       "domain          3\n",
       "tim_i           2\n",
       "sunrpc          2\n",
       "ssh             2\n",
       "tftp_u          1\n",
       "whois           1\n",
       "shell           1\n",
       "red_i           1\n",
       "printer         1\n",
       "netstat         1\n",
       "supdup          1\n",
       "Name: protocol_type, dtype: int64"
      ]
     },
     "execution_count": 11,
     "metadata": {},
     "output_type": "execute_result"
    }
   ],
   "source": [
    "df[\"protocol_type\"].value_counts()"
   ]
  },
  {
   "cell_type": "code",
   "execution_count": 12,
   "metadata": {},
   "outputs": [
    {
     "data": {
      "text/plain": [
       "<AxesSubplot:>"
      ]
     },
     "execution_count": 12,
     "metadata": {},
     "output_type": "execute_result"
    },
    {
     "data": {
      "image/png": "[encoded data removed]",
      "text/plain": [
       "<Figure size 1080x504 with 1 Axes>"
      ]
     },
     "metadata": {},
     "output_type": "display_data"
    }
   ],
   "source": [
    "df[\"protocol_type\"].hist(figsize=(15,7))"
   ]
  },
  {
   "cell_type": "markdown",
   "metadata": {},
   "source": [
    "66 unique values, where multiple values have very low chance of appearing... It could make sense to use mean encoding for this one"
   ]
  },
  {
   "cell_type": "markdown",
   "metadata": {},
   "source": [
    "### service"
   ]
  },
  {
   "cell_type": "code",
   "execution_count": 13,
   "metadata": {},
   "outputs": [
    {
     "data": {
      "text/plain": [
       "SF        92211\n",
       "REJ        5484\n",
       "RSTR        121\n",
       "RSTO         76\n",
       "S0           68\n",
       "S1           55\n",
       "S2           19\n",
       "SH           12\n",
       "S3            7\n",
       "OTH           2\n",
       "RSTOS0        1\n",
       "Name: service, dtype: int64"
      ]
     },
     "execution_count": 13,
     "metadata": {},
     "output_type": "execute_result"
    }
   ],
   "source": [
    "df[\"service\"].value_counts()"
   ]
  },
  {
   "cell_type": "markdown",
   "metadata": {},
   "source": [
    "mean encoding is also fine here probably, maybe one hot can do it as well"
   ]
  },
  {
   "cell_type": "markdown",
   "metadata": {},
   "source": [
    "## Numeric features"
   ]
  },
  {
   "cell_type": "code",
   "execution_count": 14,
   "metadata": {},
   "outputs": [
    {
     "data": {
      "text/html": [
       "<div>\n",
       "<style scoped>\n",
       "    .dataframe tbody tr th:only-of-type {\n",
       "        vertical-align: middle;\n",
       "    }\n",
       "\n",
       "    .dataframe tbody tr th {\n",
       "        vertical-align: top;\n",
       "    }\n",
       "\n",
       "    .dataframe thead th {\n",
       "        text-align: right;\n",
       "    }\n",
       "</style>\n",
       "<table border=\"1\" class=\"dataframe\">\n",
       "  <thead>\n",
       "    <tr style=\"text-align: right;\">\n",
       "      <th></th>\n",
       "      <th>flag</th>\n",
       "      <th>src_bytes</th>\n",
       "      <th>dst_bytes</th>\n",
       "      <th>land</th>\n",
       "      <th>wrong_fragment</th>\n",
       "      <th>urgent</th>\n",
       "      <th>hot</th>\n",
       "      <th>num_failed_logins</th>\n",
       "      <th>logged_in</th>\n",
       "      <th>num_compromised</th>\n",
       "      <th>root_shell</th>\n",
       "      <th>su_attempted</th>\n",
       "      <th>num_root</th>\n",
       "      <th>num_file_creations</th>\n",
       "      <th>num_shells</th>\n",
       "      <th>num_access_files</th>\n",
       "      <th>num_outbound_cmds</th>\n",
       "      <th>is_host_login</th>\n",
       "      <th>is_guest_login</th>\n",
       "      <th>count</th>\n",
       "    </tr>\n",
       "  </thead>\n",
       "  <tbody>\n",
       "    <tr>\n",
       "      <th>count</th>\n",
       "      <td>9.805600e+04</td>\n",
       "      <td>9.805600e+04</td>\n",
       "      <td>98056.000000</td>\n",
       "      <td>98056.000000</td>\n",
       "      <td>98056.000000</td>\n",
       "      <td>98056.000000</td>\n",
       "      <td>98056.000000</td>\n",
       "      <td>98056.000000</td>\n",
       "      <td>98056.000000</td>\n",
       "      <td>98056.000000</td>\n",
       "      <td>98056.000000</td>\n",
       "      <td>98056.000000</td>\n",
       "      <td>98056.000000</td>\n",
       "      <td>98056.000000</td>\n",
       "      <td>98056.000000</td>\n",
       "      <td>98056.0</td>\n",
       "      <td>98056.0</td>\n",
       "      <td>98056.000000</td>\n",
       "      <td>98056.000000</td>\n",
       "      <td>98056.000000</td>\n",
       "    </tr>\n",
       "    <tr>\n",
       "      <th>mean</th>\n",
       "      <td>1.567531e+03</td>\n",
       "      <td>3.532055e+03</td>\n",
       "      <td>0.000031</td>\n",
       "      <td>0.003080</td>\n",
       "      <td>0.000041</td>\n",
       "      <td>0.054581</td>\n",
       "      <td>0.000255</td>\n",
       "      <td>0.716050</td>\n",
       "      <td>0.030279</td>\n",
       "      <td>0.000286</td>\n",
       "      <td>0.000173</td>\n",
       "      <td>0.055805</td>\n",
       "      <td>0.004742</td>\n",
       "      <td>0.000449</td>\n",
       "      <td>0.004977</td>\n",
       "      <td>0.0</td>\n",
       "      <td>0.0</td>\n",
       "      <td>0.004039</td>\n",
       "      <td>8.821459</td>\n",
       "      <td>10.935343</td>\n",
       "    </tr>\n",
       "    <tr>\n",
       "      <th>std</th>\n",
       "      <td>5.271327e+04</td>\n",
       "      <td>4.702842e+04</td>\n",
       "      <td>0.005531</td>\n",
       "      <td>0.094252</td>\n",
       "      <td>0.010099</td>\n",
       "      <td>0.954334</td>\n",
       "      <td>0.022353</td>\n",
       "      <td>0.450915</td>\n",
       "      <td>4.031032</td>\n",
       "      <td>0.016896</td>\n",
       "      <td>0.017197</td>\n",
       "      <td>4.512039</td>\n",
       "      <td>0.202297</td>\n",
       "      <td>0.021178</td>\n",
       "      <td>0.081015</td>\n",
       "      <td>0.0</td>\n",
       "      <td>0.0</td>\n",
       "      <td>0.063421</td>\n",
       "      <td>24.924944</td>\n",
       "      <td>21.798120</td>\n",
       "    </tr>\n",
       "    <tr>\n",
       "      <th>min</th>\n",
       "      <td>0.000000e+00</td>\n",
       "      <td>0.000000e+00</td>\n",
       "      <td>0.000000</td>\n",
       "      <td>0.000000</td>\n",
       "      <td>0.000000</td>\n",
       "      <td>0.000000</td>\n",
       "      <td>0.000000</td>\n",
       "      <td>0.000000</td>\n",
       "      <td>0.000000</td>\n",
       "      <td>0.000000</td>\n",
       "      <td>0.000000</td>\n",
       "      <td>0.000000</td>\n",
       "      <td>0.000000</td>\n",
       "      <td>0.000000</td>\n",
       "      <td>0.000000</td>\n",
       "      <td>0.0</td>\n",
       "      <td>0.0</td>\n",
       "      <td>0.000000</td>\n",
       "      <td>0.000000</td>\n",
       "      <td>0.000000</td>\n",
       "    </tr>\n",
       "    <tr>\n",
       "      <th>25%</th>\n",
       "      <td>1.460000e+02</td>\n",
       "      <td>1.320000e+02</td>\n",
       "      <td>0.000000</td>\n",
       "      <td>0.000000</td>\n",
       "      <td>0.000000</td>\n",
       "      <td>0.000000</td>\n",
       "      <td>0.000000</td>\n",
       "      <td>0.000000</td>\n",
       "      <td>0.000000</td>\n",
       "      <td>0.000000</td>\n",
       "      <td>0.000000</td>\n",
       "      <td>0.000000</td>\n",
       "      <td>0.000000</td>\n",
       "      <td>0.000000</td>\n",
       "      <td>0.000000</td>\n",
       "      <td>0.0</td>\n",
       "      <td>0.0</td>\n",
       "      <td>0.000000</td>\n",
       "      <td>1.000000</td>\n",
       "      <td>1.000000</td>\n",
       "    </tr>\n",
       "    <tr>\n",
       "      <th>50%</th>\n",
       "      <td>2.300000e+02</td>\n",
       "      <td>4.150000e+02</td>\n",
       "      <td>0.000000</td>\n",
       "      <td>0.000000</td>\n",
       "      <td>0.000000</td>\n",
       "      <td>0.000000</td>\n",
       "      <td>0.000000</td>\n",
       "      <td>1.000000</td>\n",
       "      <td>0.000000</td>\n",
       "      <td>0.000000</td>\n",
       "      <td>0.000000</td>\n",
       "      <td>0.000000</td>\n",
       "      <td>0.000000</td>\n",
       "      <td>0.000000</td>\n",
       "      <td>0.000000</td>\n",
       "      <td>0.0</td>\n",
       "      <td>0.0</td>\n",
       "      <td>0.000000</td>\n",
       "      <td>3.000000</td>\n",
       "      <td>4.000000</td>\n",
       "    </tr>\n",
       "    <tr>\n",
       "      <th>75%</th>\n",
       "      <td>3.130000e+02</td>\n",
       "      <td>2.125000e+03</td>\n",
       "      <td>0.000000</td>\n",
       "      <td>0.000000</td>\n",
       "      <td>0.000000</td>\n",
       "      <td>0.000000</td>\n",
       "      <td>0.000000</td>\n",
       "      <td>1.000000</td>\n",
       "      <td>0.000000</td>\n",
       "      <td>0.000000</td>\n",
       "      <td>0.000000</td>\n",
       "      <td>0.000000</td>\n",
       "      <td>0.000000</td>\n",
       "      <td>0.000000</td>\n",
       "      <td>0.000000</td>\n",
       "      <td>0.0</td>\n",
       "      <td>0.0</td>\n",
       "      <td>0.000000</td>\n",
       "      <td>10.000000</td>\n",
       "      <td>13.000000</td>\n",
       "    </tr>\n",
       "    <tr>\n",
       "      <th>max</th>\n",
       "      <td>5.133876e+06</td>\n",
       "      <td>5.150938e+06</td>\n",
       "      <td>1.000000</td>\n",
       "      <td>3.000000</td>\n",
       "      <td>3.000000</td>\n",
       "      <td>30.000000</td>\n",
       "      <td>4.000000</td>\n",
       "      <td>1.000000</td>\n",
       "      <td>884.000000</td>\n",
       "      <td>1.000000</td>\n",
       "      <td>2.000000</td>\n",
       "      <td>993.000000</td>\n",
       "      <td>28.000000</td>\n",
       "      <td>1.000000</td>\n",
       "      <td>8.000000</td>\n",
       "      <td>0.0</td>\n",
       "      <td>0.0</td>\n",
       "      <td>1.000000</td>\n",
       "      <td>511.000000</td>\n",
       "      <td>510.000000</td>\n",
       "    </tr>\n",
       "  </tbody>\n",
       "</table>\n",
       "</div>"
      ],
      "text/plain": [
       "               flag     src_bytes     dst_bytes          land  wrong_fragment  \\\n",
       "count  9.805600e+04  9.805600e+04  98056.000000  98056.000000    98056.000000   \n",
       "mean   1.567531e+03  3.532055e+03      0.000031      0.003080        0.000041   \n",
       "std    5.271327e+04  4.702842e+04      0.005531      0.094252        0.010099   \n",
       "min    0.000000e+00  0.000000e+00      0.000000      0.000000        0.000000   \n",
       "25%    1.460000e+02  1.320000e+02      0.000000      0.000000        0.000000   \n",
       "50%    2.300000e+02  4.150000e+02      0.000000      0.000000        0.000000   \n",
       "75%    3.130000e+02  2.125000e+03      0.000000      0.000000        0.000000   \n",
       "max    5.133876e+06  5.150938e+06      1.000000      3.000000        3.000000   \n",
       "\n",
       "             urgent           hot  num_failed_logins     logged_in  \\\n",
       "count  98056.000000  98056.000000       98056.000000  98056.000000   \n",
       "mean       0.054581      0.000255           0.716050      0.030279   \n",
       "std        0.954334      0.022353           0.450915      4.031032   \n",
       "min        0.000000      0.000000           0.000000      0.000000   \n",
       "25%        0.000000      0.000000           0.000000      0.000000   \n",
       "50%        0.000000      0.000000           1.000000      0.000000   \n",
       "75%        0.000000      0.000000           1.000000      0.000000   \n",
       "max       30.000000      4.000000           1.000000    884.000000   \n",
       "\n",
       "       num_compromised    root_shell  su_attempted      num_root  \\\n",
       "count     98056.000000  98056.000000  98056.000000  98056.000000   \n",
       "mean          0.000286      0.000173      0.055805      0.004742   \n",
       "std           0.016896      0.017197      4.512039      0.202297   \n",
       "min           0.000000      0.000000      0.000000      0.000000   \n",
       "25%           0.000000      0.000000      0.000000      0.000000   \n",
       "50%           0.000000      0.000000      0.000000      0.000000   \n",
       "75%           0.000000      0.000000      0.000000      0.000000   \n",
       "max           1.000000      2.000000    993.000000     28.000000   \n",
       "\n",
       "       num_file_creations    num_shells  num_access_files  num_outbound_cmds  \\\n",
       "count        98056.000000  98056.000000           98056.0            98056.0   \n",
       "mean             0.000449      0.004977               0.0                0.0   \n",
       "std              0.021178      0.081015               0.0                0.0   \n",
       "min              0.000000      0.000000               0.0                0.0   \n",
       "25%              0.000000      0.000000               0.0                0.0   \n",
       "50%              0.000000      0.000000               0.0                0.0   \n",
       "75%              0.000000      0.000000               0.0                0.0   \n",
       "max              1.000000      8.000000               0.0                0.0   \n",
       "\n",
       "       is_host_login  is_guest_login         count  \n",
       "count   98056.000000    98056.000000  98056.000000  \n",
       "mean        0.004039        8.821459     10.935343  \n",
       "std         0.063421       24.924944     21.798120  \n",
       "min         0.000000        0.000000      0.000000  \n",
       "25%         0.000000        1.000000      1.000000  \n",
       "50%         0.000000        3.000000      4.000000  \n",
       "75%         0.000000       10.000000     13.000000  \n",
       "max         1.000000      511.000000    510.000000  "
      ]
     },
     "execution_count": 14,
     "metadata": {},
     "output_type": "execute_result"
    }
   ],
   "source": [
    "df.describe()[df.describe().columns[:20]]"
   ]
  },
  {
   "cell_type": "code",
   "execution_count": 15,
   "metadata": {},
   "outputs": [],
   "source": [
    "col_to_log_scale = [\"flag\"]"
   ]
  },
  {
   "cell_type": "code",
   "execution_count": 16,
   "metadata": {},
   "outputs": [
    {
     "data": {
      "text/html": [
       "<div>\n",
       "<style scoped>\n",
       "    .dataframe tbody tr th:only-of-type {\n",
       "        vertical-align: middle;\n",
       "    }\n",
       "\n",
       "    .dataframe tbody tr th {\n",
       "        vertical-align: top;\n",
       "    }\n",
       "\n",
       "    .dataframe thead th {\n",
       "        text-align: right;\n",
       "    }\n",
       "</style>\n",
       "<table border=\"1\" class=\"dataframe\">\n",
       "  <thead>\n",
       "    <tr style=\"text-align: right;\">\n",
       "      <th></th>\n",
       "      <th>srv_count</th>\n",
       "      <th>serror_rate</th>\n",
       "      <th>srv_serror_rate</th>\n",
       "      <th>rerror_rate</th>\n",
       "      <th>srv_rerror_rate</th>\n",
       "      <th>same_srv_rate</th>\n",
       "      <th>diff_srv_rate</th>\n",
       "      <th>srv_diff_host_rate</th>\n",
       "      <th>dst_host_count</th>\n",
       "      <th>dst_host_srv_count</th>\n",
       "      <th>dst_host_same_srv_rate</th>\n",
       "      <th>dst_host_diff_srv_rate</th>\n",
       "      <th>dst_host_same_src_port_rate</th>\n",
       "      <th>dst_host_srv_diff_host_rate</th>\n",
       "      <th>dst_host_serror_rate</th>\n",
       "      <th>dst_host_srv_serror_rate</th>\n",
       "      <th>dst_host_rerror_rate</th>\n",
       "      <th>anomaly</th>\n",
       "    </tr>\n",
       "  </thead>\n",
       "  <tbody>\n",
       "    <tr>\n",
       "      <th>count</th>\n",
       "      <td>98056.000000</td>\n",
       "      <td>98056.000000</td>\n",
       "      <td>98056.000000</td>\n",
       "      <td>98056.000000</td>\n",
       "      <td>98056.000000</td>\n",
       "      <td>98056.000000</td>\n",
       "      <td>98056.000000</td>\n",
       "      <td>98056.000000</td>\n",
       "      <td>98056.000000</td>\n",
       "      <td>98056.000000</td>\n",
       "      <td>98056.000000</td>\n",
       "      <td>98056.000000</td>\n",
       "      <td>98056.000000</td>\n",
       "      <td>98056.000000</td>\n",
       "      <td>98056.000000</td>\n",
       "      <td>98056.000000</td>\n",
       "      <td>98056.000000</td>\n",
       "      <td>98056.000000</td>\n",
       "    </tr>\n",
       "    <tr>\n",
       "      <th>mean</th>\n",
       "      <td>0.001959</td>\n",
       "      <td>0.002099</td>\n",
       "      <td>0.057966</td>\n",
       "      <td>0.058387</td>\n",
       "      <td>0.983919</td>\n",
       "      <td>0.019677</td>\n",
       "      <td>0.133900</td>\n",
       "      <td>148.710645</td>\n",
       "      <td>201.134291</td>\n",
       "      <td>0.842446</td>\n",
       "      <td>0.058639</td>\n",
       "      <td>0.136193</td>\n",
       "      <td>0.024796</td>\n",
       "      <td>0.002476</td>\n",
       "      <td>0.001374</td>\n",
       "      <td>0.059832</td>\n",
       "      <td>0.057826</td>\n",
       "      <td>0.007934</td>\n",
       "    </tr>\n",
       "    <tr>\n",
       "      <th>std</th>\n",
       "      <td>0.031677</td>\n",
       "      <td>0.031798</td>\n",
       "      <td>0.232508</td>\n",
       "      <td>0.231710</td>\n",
       "      <td>0.099952</td>\n",
       "      <td>0.122297</td>\n",
       "      <td>0.278601</td>\n",
       "      <td>103.478859</td>\n",
       "      <td>87.657267</td>\n",
       "      <td>0.308143</td>\n",
       "      <td>0.185087</td>\n",
       "      <td>0.283744</td>\n",
       "      <td>0.054626</td>\n",
       "      <td>0.032327</td>\n",
       "      <td>0.023311</td>\n",
       "      <td>0.228356</td>\n",
       "      <td>0.222777</td>\n",
       "      <td>0.088721</td>\n",
       "    </tr>\n",
       "    <tr>\n",
       "      <th>min</th>\n",
       "      <td>0.000000</td>\n",
       "      <td>0.000000</td>\n",
       "      <td>0.000000</td>\n",
       "      <td>0.000000</td>\n",
       "      <td>0.000000</td>\n",
       "      <td>0.000000</td>\n",
       "      <td>0.000000</td>\n",
       "      <td>0.000000</td>\n",
       "      <td>0.000000</td>\n",
       "      <td>0.000000</td>\n",
       "      <td>0.000000</td>\n",
       "      <td>0.000000</td>\n",
       "      <td>0.000000</td>\n",
       "      <td>0.000000</td>\n",
       "      <td>0.000000</td>\n",
       "      <td>0.000000</td>\n",
       "      <td>0.000000</td>\n",
       "      <td>0.000000</td>\n",
       "    </tr>\n",
       "    <tr>\n",
       "      <th>25%</th>\n",
       "      <td>0.000000</td>\n",
       "      <td>0.000000</td>\n",
       "      <td>0.000000</td>\n",
       "      <td>0.000000</td>\n",
       "      <td>1.000000</td>\n",
       "      <td>0.000000</td>\n",
       "      <td>0.000000</td>\n",
       "      <td>38.000000</td>\n",
       "      <td>166.000000</td>\n",
       "      <td>0.910000</td>\n",
       "      <td>0.000000</td>\n",
       "      <td>0.000000</td>\n",
       "      <td>0.000000</td>\n",
       "      <td>0.000000</td>\n",
       "      <td>0.000000</td>\n",
       "      <td>0.000000</td>\n",
       "      <td>0.000000</td>\n",
       "      <td>0.000000</td>\n",
       "    </tr>\n",
       "    <tr>\n",
       "      <th>50%</th>\n",
       "      <td>0.000000</td>\n",
       "      <td>0.000000</td>\n",
       "      <td>0.000000</td>\n",
       "      <td>0.000000</td>\n",
       "      <td>1.000000</td>\n",
       "      <td>0.000000</td>\n",
       "      <td>0.000000</td>\n",
       "      <td>161.000000</td>\n",
       "      <td>255.000000</td>\n",
       "      <td>1.000000</td>\n",
       "      <td>0.000000</td>\n",
       "      <td>0.010000</td>\n",
       "      <td>0.010000</td>\n",
       "      <td>0.000000</td>\n",
       "      <td>0.000000</td>\n",
       "      <td>0.000000</td>\n",
       "      <td>0.000000</td>\n",
       "      <td>0.000000</td>\n",
       "    </tr>\n",
       "    <tr>\n",
       "      <th>75%</th>\n",
       "      <td>0.000000</td>\n",
       "      <td>0.000000</td>\n",
       "      <td>0.000000</td>\n",
       "      <td>0.000000</td>\n",
       "      <td>1.000000</td>\n",
       "      <td>0.000000</td>\n",
       "      <td>0.120000</td>\n",
       "      <td>255.000000</td>\n",
       "      <td>255.000000</td>\n",
       "      <td>1.000000</td>\n",
       "      <td>0.010000</td>\n",
       "      <td>0.080000</td>\n",
       "      <td>0.030000</td>\n",
       "      <td>0.000000</td>\n",
       "      <td>0.000000</td>\n",
       "      <td>0.000000</td>\n",
       "      <td>0.000000</td>\n",
       "      <td>0.000000</td>\n",
       "    </tr>\n",
       "    <tr>\n",
       "      <th>max</th>\n",
       "      <td>1.000000</td>\n",
       "      <td>1.000000</td>\n",
       "      <td>1.000000</td>\n",
       "      <td>1.000000</td>\n",
       "      <td>1.000000</td>\n",
       "      <td>1.000000</td>\n",
       "      <td>1.000000</td>\n",
       "      <td>255.000000</td>\n",
       "      <td>255.000000</td>\n",
       "      <td>1.000000</td>\n",
       "      <td>1.000000</td>\n",
       "      <td>1.000000</td>\n",
       "      <td>1.000000</td>\n",
       "      <td>1.000000</td>\n",
       "      <td>1.000000</td>\n",
       "      <td>1.000000</td>\n",
       "      <td>1.000000</td>\n",
       "      <td>1.000000</td>\n",
       "    </tr>\n",
       "  </tbody>\n",
       "</table>\n",
       "</div>"
      ],
      "text/plain": [
       "          srv_count   serror_rate  srv_serror_rate   rerror_rate  \\\n",
       "count  98056.000000  98056.000000     98056.000000  98056.000000   \n",
       "mean       0.001959      0.002099         0.057966      0.058387   \n",
       "std        0.031677      0.031798         0.232508      0.231710   \n",
       "min        0.000000      0.000000         0.000000      0.000000   \n",
       "25%        0.000000      0.000000         0.000000      0.000000   \n",
       "50%        0.000000      0.000000         0.000000      0.000000   \n",
       "75%        0.000000      0.000000         0.000000      0.000000   \n",
       "max        1.000000      1.000000         1.000000      1.000000   \n",
       "\n",
       "       srv_rerror_rate  same_srv_rate  diff_srv_rate  srv_diff_host_rate  \\\n",
       "count     98056.000000   98056.000000   98056.000000        98056.000000   \n",
       "mean          0.983919       0.019677       0.133900          148.710645   \n",
       "std           0.099952       0.122297       0.278601          103.478859   \n",
       "min           0.000000       0.000000       0.000000            0.000000   \n",
       "25%           1.000000       0.000000       0.000000           38.000000   \n",
       "50%           1.000000       0.000000       0.000000          161.000000   \n",
       "75%           1.000000       0.000000       0.120000          255.000000   \n",
       "max           1.000000       1.000000       1.000000          255.000000   \n",
       "\n",
       "       dst_host_count  dst_host_srv_count  dst_host_same_srv_rate  \\\n",
       "count    98056.000000        98056.000000            98056.000000   \n",
       "mean       201.134291            0.842446                0.058639   \n",
       "std         87.657267            0.308143                0.185087   \n",
       "min          0.000000            0.000000                0.000000   \n",
       "25%        166.000000            0.910000                0.000000   \n",
       "50%        255.000000            1.000000                0.000000   \n",
       "75%        255.000000            1.000000                0.010000   \n",
       "max        255.000000            1.000000                1.000000   \n",
       "\n",
       "       dst_host_diff_srv_rate  dst_host_same_src_port_rate  \\\n",
       "count            98056.000000                 98056.000000   \n",
       "mean                 0.136193                     0.024796   \n",
       "std                  0.283744                     0.054626   \n",
       "min                  0.000000                     0.000000   \n",
       "25%                  0.000000                     0.000000   \n",
       "50%                  0.010000                     0.010000   \n",
       "75%                  0.080000                     0.030000   \n",
       "max                  1.000000                     1.000000   \n",
       "\n",
       "       dst_host_srv_diff_host_rate  dst_host_serror_rate  \\\n",
       "count                 98056.000000          98056.000000   \n",
       "mean                      0.002476              0.001374   \n",
       "std                       0.032327              0.023311   \n",
       "min                       0.000000              0.000000   \n",
       "25%                       0.000000              0.000000   \n",
       "50%                       0.000000              0.000000   \n",
       "75%                       0.000000              0.000000   \n",
       "max                       1.000000              1.000000   \n",
       "\n",
       "       dst_host_srv_serror_rate  dst_host_rerror_rate       anomaly  \n",
       "count              98056.000000          98056.000000  98056.000000  \n",
       "mean                   0.059832              0.057826      0.007934  \n",
       "std                    0.228356              0.222777      0.088721  \n",
       "min                    0.000000              0.000000      0.000000  \n",
       "25%                    0.000000              0.000000      0.000000  \n",
       "50%                    0.000000              0.000000      0.000000  \n",
       "75%                    0.000000              0.000000      0.000000  \n",
       "max                    1.000000              1.000000      1.000000  "
      ]
     },
     "execution_count": 16,
     "metadata": {},
     "output_type": "execute_result"
    }
   ],
   "source": [
    "df.describe()[df.describe().columns[20:]]"
   ]
  },
  {
   "cell_type": "markdown",
   "metadata": {},
   "source": [
    "Numerical Features looks pretty much ok, most of them should be good with a min-max scale.\n",
    "the `flag` feature looks a bit bad, it will probably require some log normalization"
   ]
  },
  {
   "cell_type": "code",
   "execution_count": 17,
   "metadata": {},
   "outputs": [
    {
     "data": {
      "text/plain": [
       "<AxesSubplot:>"
      ]
     },
     "execution_count": 17,
     "metadata": {},
     "output_type": "execute_result"
    },
    {
     "data": {
      "image/png": "[encoded data removed]",
      "text/plain": [
       "<Figure size 460.8x403.2 with 1 Axes>"
      ]
     },
     "metadata": {},
     "output_type": "display_data"
    }
   ],
   "source": [
    "df[\"flag\"].hist()"
   ]
  },
  {
   "cell_type": "code",
   "execution_count": 18,
   "metadata": {},
   "outputs": [
    {
     "data": {
      "text/plain": [
       "<AxesSubplot:>"
      ]
     },
     "execution_count": 18,
     "metadata": {},
     "output_type": "execute_result"
    },
    {
     "data": {
      "image/png": "[encoded data removed]",
      "text/plain": [
       "<Figure size 460.8x403.2 with 1 Axes>"
      ]
     },
     "metadata": {},
     "output_type": "display_data"
    }
   ],
   "source": [
    "df[\"flag\"].apply(np.log1p).hist(bins=100)"
   ]
  },
  {
   "cell_type": "markdown",
   "metadata": {},
   "source": [
    "It's something"
   ]
  },
  {
   "cell_type": "code",
   "execution_count": 19,
   "metadata": {},
   "outputs": [
    {
     "data": {
      "text/plain": [
       "105      7370\n",
       "0        5775\n",
       "147      2725\n",
       "146      2033\n",
       "42       1069\n",
       "         ... \n",
       "5661        1\n",
       "3614        1\n",
       "11866       1\n",
       "11994       1\n",
       "3742        1\n",
       "Name: flag, Length: 3261, dtype: int64"
      ]
     },
     "execution_count": 19,
     "metadata": {},
     "output_type": "execute_result"
    }
   ],
   "source": [
    "df[\"flag\"].value_counts()"
   ]
  },
  {
   "cell_type": "markdown",
   "metadata": {},
   "source": [
    "## Defining the Preprocessor:"
   ]
  },
  {
   "cell_type": "code",
   "execution_count": 20,
   "metadata": {},
   "outputs": [],
   "source": [
    "from sklearn_pandas import DataFrameMapper, NumericalTransformer\n",
    "from sklearn import preprocessing\n",
    "import category_encoders as ce\n"
   ]
  },
  {
   "cell_type": "code",
   "execution_count": 21,
   "metadata": {},
   "outputs": [],
   "source": [
    "pre_processor = DataFrameMapper(\n",
    "    [\n",
    "        ('duration', preprocessing.LabelBinarizer()),\n",
    "        ('service', preprocessing.LabelBinarizer()),        \n",
    "        (['flag'], [NumericalTransformer('log1p'), preprocessing.MinMaxScaler()]),\n",
    "        (['protocol_type'], [ce.count.CountEncoder(), preprocessing.MinMaxScaler()])\n",
    "    ],\n",
    "    default=preprocessing.MinMaxScaler()\n",
    ")"
   ]
  },
  {
   "cell_type": "code",
   "execution_count": 22,
   "metadata": {},
   "outputs": [
    {
     "data": {
      "text/plain": [
       "array([[0., 0., 1., ..., 0., 0., 0.],\n",
       "       [0., 1., 0., ..., 0., 0., 0.],\n",
       "       [0., 1., 0., ..., 0., 0., 0.],\n",
       "       ...,\n",
       "       [0., 1., 0., ..., 0., 0., 0.],\n",
       "       [0., 1., 0., ..., 0., 0., 0.],\n",
       "       [0., 1., 0., ..., 0., 0., 0.]])"
      ]
     },
     "execution_count": 22,
     "metadata": {},
     "output_type": "execute_result"
    }
   ],
   "source": [
    "pre_processor.fit_transform(df)"
   ]
  },
  {
   "cell_type": "code",
   "execution_count": 23,
   "metadata": {},
   "outputs": [
    {
     "data": {
      "text/plain": [
       "(98056, 53)"
      ]
     },
     "execution_count": 23,
     "metadata": {},
     "output_type": "execute_result"
    }
   ],
   "source": [
    "pre_processor.fit_transform(df).shape"
   ]
  },
  {
   "cell_type": "markdown",
   "metadata": {},
   "source": [
    "# Train:"
   ]
  },
  {
   "cell_type": "code",
   "execution_count": 24,
   "metadata": {},
   "outputs": [],
   "source": [
    "from sklearn.model_selection import train_test_split"
   ]
  },
  {
   "cell_type": "code",
   "execution_count": 25,
   "metadata": {},
   "outputs": [],
   "source": [
    "# Train-Test split\n",
    "# df = df.sample(frac=.1)\n",
    "df = prepare_dataset(load_df())\n",
    "X = df.drop('anomaly', axis=1)\n",
    "y = df['anomaly']\n",
    "\n",
    "# Train Test Split\n",
    "X_train, X_test, y_train, y_test = train_test_split(X, y, test_size=0.2, random_state=42)\n",
    "\n",
    "# Applying preprocess\n",
    "X_train_preprocessed = pre_processor.fit_transform(X_train)\n",
    "X_test_preprocessed = pre_processor.transform(X_test)\n",
    "\n",
    "# Remove NaNs\n",
    "X_train_preprocessed, X_test_preprocessed = np.nan_to_num(X_train_preprocessed), np.nan_to_num(X_test_preprocessed)"
   ]
  },
  {
   "cell_type": "code",
   "execution_count": 26,
   "metadata": {},
   "outputs": [
    {
     "name": "stdout",
     "output_type": "stream",
     "text": [
      "Finishing training AvgKNN\n",
      "AUC=0.6803205433368245\n",
      "Training Time=71.97883820533752\n",
      "--------------------\n",
      "Finishing training LOF\n",
      "AUC=0.618532482782697\n",
      "Training Time=75.2419421672821\n",
      "--------------------\n",
      "Finishing training CBLOF\n",
      "AUC=0.9252194611063506\n",
      "Training Time=2.7598299980163574\n",
      "--------------------\n",
      "Finishing training HBOS\n",
      "AUC=0.8577669872100036\n",
      "Training Time=1.68231201171875\n",
      "--------------------\n",
      "Finishing training IForest\n",
      "AUC=0.9269595988447745\n",
      "Training Time=6.109901666641235\n",
      "--------------------\n"
     ]
    }
   ],
   "source": [
    "from pyod.models.lof import LOF\n",
    "from pyod.models.hbos import HBOS\n",
    "from pyod.models.knn import KNN\n",
    "from pyod.models.cblof import CBLOF\n",
    "from pyod.models.iforest import IForest\n",
    "from sklearn.metrics import roc_auc_score\n",
    "\n",
    "import time\n",
    "\n",
    "# Models\n",
    "models = [\n",
    "    {\n",
    "        \"name\": \"AvgKNN\",\n",
    "        \"model\": KNN(method='mean', n_jobs=-1)\n",
    "    },\n",
    "    {\n",
    "        \"name\": \"LOF\",\n",
    "        \"model\": LOF(n_jobs=-1)\n",
    "    },\n",
    "    {\n",
    "        \"name\": \"CBLOF\",\n",
    "        \"model\": CBLOF(n_jobs=-1)\n",
    "    },\n",
    "    {\n",
    "        \"name\": \"HBOS\",\n",
    "        \"model\": HBOS()\n",
    "    },\n",
    "    {\n",
    "        \"name\": \"IForest\",\n",
    "        \"model\": IForest(n_jobs=-1)\n",
    "    },\n",
    "]\n",
    "\n",
    "for model in models:\n",
    "    # Train\n",
    "    start = time.time()\n",
    "    model[\"model\"].fit(X_train_preprocessed)\n",
    "    end = time.time()\n",
    "    model[\"fitting_time\"] = end - start\n",
    "    \n",
    "    # Evaluate\n",
    "    y_pred = model[\"model\"].predict_proba(X_test_preprocessed)[:,1]\n",
    "    model[\"score\"] = roc_auc_score(y_test, y_pred)\n",
    "    \n",
    "    print(f\"Finishing training {model['name']}\")\n",
    "    print(f\"AUC={model['score']}\")\n",
    "    print(f\"Training Time={model['fitting_time']}\")\n",
    "    print(\"-\" * 20)"
   ]
  },
  {
   "cell_type": "code",
   "execution_count": 27,
   "metadata": {},
   "outputs": [],
   "source": [
    "training_results = pd.DataFrame(models)"
   ]
  },
  {
   "cell_type": "code",
   "execution_count": 32,
   "metadata": {},
   "outputs": [
    {
     "data": {
      "text/html": [
       "<div>\n",
       "<style scoped>\n",
       "    .dataframe tbody tr th:only-of-type {\n",
       "        vertical-align: middle;\n",
       "    }\n",
       "\n",
       "    .dataframe tbody tr th {\n",
       "        vertical-align: top;\n",
       "    }\n",
       "\n",
       "    .dataframe thead th {\n",
       "        text-align: right;\n",
       "    }\n",
       "</style>\n",
       "<table border=\"1\" class=\"dataframe\">\n",
       "  <thead>\n",
       "    <tr style=\"text-align: right;\">\n",
       "      <th></th>\n",
       "      <th>name</th>\n",
       "      <th>fitting_time</th>\n",
       "      <th>score</th>\n",
       "    </tr>\n",
       "  </thead>\n",
       "  <tbody>\n",
       "    <tr>\n",
       "      <th>0</th>\n",
       "      <td>AvgKNN</td>\n",
       "      <td>71.978838</td>\n",
       "      <td>0.680321</td>\n",
       "    </tr>\n",
       "    <tr>\n",
       "      <th>1</th>\n",
       "      <td>LOF</td>\n",
       "      <td>75.241942</td>\n",
       "      <td>0.618532</td>\n",
       "    </tr>\n",
       "    <tr>\n",
       "      <th>2</th>\n",
       "      <td>CBLOF</td>\n",
       "      <td>2.759830</td>\n",
       "      <td>0.925219</td>\n",
       "    </tr>\n",
       "    <tr>\n",
       "      <th>3</th>\n",
       "      <td>HBOS</td>\n",
       "      <td>1.682312</td>\n",
       "      <td>0.857767</td>\n",
       "    </tr>\n",
       "    <tr>\n",
       "      <th>4</th>\n",
       "      <td>IForest</td>\n",
       "      <td>6.109902</td>\n",
       "      <td>0.926960</td>\n",
       "    </tr>\n",
       "  </tbody>\n",
       "</table>\n",
       "</div>"
      ],
      "text/plain": [
       "      name  fitting_time     score\n",
       "0   AvgKNN     71.978838  0.680321\n",
       "1      LOF     75.241942  0.618532\n",
       "2    CBLOF      2.759830  0.925219\n",
       "3     HBOS      1.682312  0.857767\n",
       "4  IForest      6.109902  0.926960"
      ]
     },
     "execution_count": 32,
     "metadata": {},
     "output_type": "execute_result"
    }
   ],
   "source": [
    "training_results.drop('model', axis=1)"
   ]
  },
  {
   "cell_type": "code",
   "execution_count": 33,
   "metadata": {},
   "outputs": [
    {
     "name": "stdout",
     "output_type": "stream",
     "text": [
      "|    | name    |   fitting_time |    score |\n",
      "|---:|:--------|---------------:|---------:|\n",
      "|  0 | AvgKNN  |       71.9788  | 0.680321 |\n",
      "|  1 | LOF     |       75.2419  | 0.618532 |\n",
      "|  2 | CBLOF   |        2.75983 | 0.925219 |\n",
      "|  3 | HBOS    |        1.68231 | 0.857767 |\n",
      "|  4 | IForest |        6.1099  | 0.92696  |\n"
     ]
    }
   ],
   "source": [
    "print(training_results.drop('model', axis=1).to_markdown())"
   ]
  },
  {
   "cell_type": "markdown",
   "metadata": {},
   "source": [
    "## Training Results (static)\n",
    "|    | name    |   fitting_time |    score |\n",
    "|---:|:--------|---------------:|---------:|\n",
    "|  0 | AvgKNN  |       71.9788  | 0.680321 |\n",
    "|  1 | LOF     |       75.2419  | 0.618532 |\n",
    "|  2 | CBLOF   |        2.75983 | 0.925219 |\n",
    "|  3 | HBOS    |        1.68231 | 0.857767 |\n",
    "|  4 | IForest |        6.1099  | 0.92696  |"
   ]
  },
  {
   "cell_type": "code",
   "execution_count": 29,
   "metadata": {},
   "outputs": [
    {
     "data": {
      "text/plain": [
       "<AxesSubplot:xlabel='fitting_time', ylabel='score'>"
      ]
     },
     "execution_count": 29,
     "metadata": {},
     "output_type": "execute_result"
    },
    {
     "data": {
      "image/png": "[encoded data removed]",
      "text/plain": [
       "<Figure size 460.8x403.2 with 1 Axes>"
      ]
     },
     "metadata": {},
     "output_type": "display_data"
    }
   ],
   "source": [
    "import seaborn as sns\n",
    "\n",
    "sns.scatterplot(data=training_results, x=\"fitting_time\", y=\"score\", hue=\"name\", s=200)"
   ]
  },
  {
   "cell_type": "code",
   "execution_count": 30,
   "metadata": {},
   "outputs": [],
   "source": [
    "class VotingEnsemble:\n",
    "    def __init__(self, estimators):\n",
    "        self._estimators = estimators\n",
    "    \n",
    "    def fit(self, X, y=None):\n",
    "        for n, e in self._estimators:\n",
    "            e.fit(X, y)\n",
    "\n",
    "    def predict_proba(self, X):\n",
    "        proba = np.zeros((X.shape[0], 2))\n",
    "        for n, e in self._estimators:\n",
    "            proba += e.predict_proba(X)\n",
    "        proba /= len(self._estimators)\n",
    "        return proba"
   ]
  },
  {
   "cell_type": "code",
   "execution_count": 31,
   "metadata": {},
   "outputs": [
    {
     "name": "stdout",
     "output_type": "stream",
     "text": [
      " ensemble_all\n",
      "AUC=0.9192373607540703\n",
      "--------------------\n",
      " ensemble_best\n",
      "AUC=0.9204989050747405\n",
      "--------------------\n"
     ]
    }
   ],
   "source": [
    "\n",
    "\n",
    "ensemble_models = [\n",
    "    {\n",
    "        \"name\": \"ensemble_all\",\n",
    "        \"model\": VotingEnsemble(\n",
    "            estimators=[(model['name'], model['model']) for model in models]\n",
    "        )\n",
    "    },\n",
    "    {\n",
    "        \"name\": \"ensemble_best\",\n",
    "        \"model\": VotingEnsemble(\n",
    "            estimators=[(model['name'], model['model']) for model in models[-3:]]\n",
    "        )\n",
    "    },\n",
    "]\n",
    "for model in ensemble_models:\n",
    "\n",
    "    # Evaluate\n",
    "    y_pred = model[\"model\"].predict_proba(X_test_preprocessed)[:,1]\n",
    "    model[\"score\"] = roc_auc_score(y_test, y_pred)\n",
    "    \n",
    "    print(f\" {model['name']}\")\n",
    "    print(f\"AUC={model['score']}\")\n",
    "    print(\"-\" * 20)"
   ]
  },
  {
   "cell_type": "code",
   "execution_count": null,
   "metadata": {},
   "outputs": [],
   "source": []
  }
 ],
 "metadata": {
  "kernelspec": {
   "display_name": "Python 3.9.6 64-bit ('3.9.6')",
   "language": "python",
   "name": "python3"
  },
  "language_info": {
   "codemirror_mode": {
    "name": "ipython",
    "version": 3
   },
   "file_extension": ".py",
   "mimetype": "text/x-python",
   "name": "python",
   "nbconvert_exporter": "python",
   "pygments_lexer": "ipython3",
   "version": "3.9.6"
  },
  "vscode": {
   "interpreter": {
    "hash": "f9e04587c859f91076f0289845ebb3ccbd18d228e88f194bfc7b16288c524a62"
   }
  }
 },
 "nbformat": 4,
 "nbformat_minor": 4
}
