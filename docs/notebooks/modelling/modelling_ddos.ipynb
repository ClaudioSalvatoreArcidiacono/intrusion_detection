{
 "cells": [
  {
   "cell_type": "markdown",
   "metadata": {},
   "source": [
    "The strategy that we are going to use to detect connection from DDOS attacks is to use a clustering technique to group connections. In DDOS attacks connections are all the same so I expect to find them in clusters well defined and a bit separate from normal connections."
   ]
  },
  {
   "cell_type": "code",
   "execution_count": 1,
   "metadata": {},
   "outputs": [],
   "source": [
    "%load_ext autoreload"
   ]
  },
  {
   "cell_type": "code",
   "execution_count": 50,
   "metadata": {},
   "outputs": [],
   "source": [
    "%autoreload\n",
    "import pandas as pd\n",
    "import numpy as np\n",
    "import seaborn as sns\n",
    "import matplotlib.pyplot as plt\n",
    "from IPython.display import display, Markdown\n",
    "from sklearn import set_config\n",
    "\n",
    "from intrusion_detection.load_input_data import load_df\n",
    "from intrusion_detection.preprocessing.preprocessing import remove_dot_from_attack_type_classes\n",
    "from intrusion_detection.target_definition import define_target\n",
    "from intrusion_detection.preprocessing.pipeline import get_preprocessing_pipeline\n",
    "from intrusion_detection.feature_selection.pipeline import get_feature_selection_pipeline\n",
    "set_config(display=\"diagram\")"
   ]
  },
  {
   "cell_type": "code",
   "execution_count": 28,
   "metadata": {},
   "outputs": [],
   "source": [
    "df = load_df(\n",
    "    file_path=\"../../../data/kddcup.data_10_percent\",\n",
    "    header_file=\"../../../data/kddcup.names\"\n",
    ")\n",
    "df = remove_dot_from_attack_type_classes(df)"
   ]
  },
  {
   "cell_type": "markdown",
   "metadata": {},
   "source": [
    "### Features selection\n",
    "\n",
    "For this exercise, I will use feature selection to drop highly correlated features and quasi-constant features. The complete pipeline that I am going to use for this model is below:"
   ]
  },
  {
   "cell_type": "code",
   "execution_count": 53,
   "metadata": {},
   "outputs": [
    {
     "data": {
      "text/html": [
       "<style>#sk-container-id-3 {color: black;background-color: white;}#sk-container-id-3 pre{padding: 0;}#sk-container-id-3 div.sk-toggleable {background-color: white;}#sk-container-id-3 label.sk-toggleable__label {cursor: pointer;display: block;width: 100%;margin-bottom: 0;padding: 0.3em;box-sizing: border-box;text-align: center;}#sk-container-id-3 label.sk-toggleable__label-arrow:before {content: \"▸\";float: left;margin-right: 0.25em;color: #696969;}#sk-container-id-3 label.sk-toggleable__label-arrow:hover:before {color: black;}#sk-container-id-3 div.sk-estimator:hover label.sk-toggleable__label-arrow:before {color: black;}#sk-container-id-3 div.sk-toggleable__content {max-height: 0;max-width: 0;overflow: hidden;text-align: left;background-color: #f0f8ff;}#sk-container-id-3 div.sk-toggleable__content pre {margin: 0.2em;color: black;border-radius: 0.25em;background-color: #f0f8ff;}#sk-container-id-3 input.sk-toggleable__control:checked~div.sk-toggleable__content {max-height: 200px;max-width: 100%;overflow: auto;}#sk-container-id-3 input.sk-toggleable__control:checked~label.sk-toggleable__label-arrow:before {content: \"▾\";}#sk-container-id-3 div.sk-estimator input.sk-toggleable__control:checked~label.sk-toggleable__label {background-color: #d4ebff;}#sk-container-id-3 div.sk-label input.sk-toggleable__control:checked~label.sk-toggleable__label {background-color: #d4ebff;}#sk-container-id-3 input.sk-hidden--visually {border: 0;clip: rect(1px 1px 1px 1px);clip: rect(1px, 1px, 1px, 1px);height: 1px;margin: -1px;overflow: hidden;padding: 0;position: absolute;width: 1px;}#sk-container-id-3 div.sk-estimator {font-family: monospace;background-color: #f0f8ff;border: 1px dotted black;border-radius: 0.25em;box-sizing: border-box;margin-bottom: 0.5em;}#sk-container-id-3 div.sk-estimator:hover {background-color: #d4ebff;}#sk-container-id-3 div.sk-parallel-item::after {content: \"\";width: 100%;border-bottom: 1px solid gray;flex-grow: 1;}#sk-container-id-3 div.sk-label:hover label.sk-toggleable__label {background-color: #d4ebff;}#sk-container-id-3 div.sk-serial::before {content: \"\";position: absolute;border-left: 1px solid gray;box-sizing: border-box;top: 0;bottom: 0;left: 50%;z-index: 0;}#sk-container-id-3 div.sk-serial {display: flex;flex-direction: column;align-items: center;background-color: white;padding-right: 0.2em;padding-left: 0.2em;position: relative;}#sk-container-id-3 div.sk-item {position: relative;z-index: 1;}#sk-container-id-3 div.sk-parallel {display: flex;align-items: stretch;justify-content: center;background-color: white;position: relative;}#sk-container-id-3 div.sk-item::before, #sk-container-id-3 div.sk-parallel-item::before {content: \"\";position: absolute;border-left: 1px solid gray;box-sizing: border-box;top: 0;bottom: 0;left: 50%;z-index: -1;}#sk-container-id-3 div.sk-parallel-item {display: flex;flex-direction: column;z-index: 1;position: relative;background-color: white;}#sk-container-id-3 div.sk-parallel-item:first-child::after {align-self: flex-end;width: 50%;}#sk-container-id-3 div.sk-parallel-item:last-child::after {align-self: flex-start;width: 50%;}#sk-container-id-3 div.sk-parallel-item:only-child::after {width: 0;}#sk-container-id-3 div.sk-dashed-wrapped {border: 1px dashed gray;margin: 0 0.4em 0.5em 0.4em;box-sizing: border-box;padding-bottom: 0.4em;background-color: white;}#sk-container-id-3 div.sk-label label {font-family: monospace;font-weight: bold;display: inline-block;line-height: 1.2em;}#sk-container-id-3 div.sk-label-container {text-align: center;}#sk-container-id-3 div.sk-container {/* jupyter's `normalize.less` sets `[hidden] { display: none; }` but bootstrap.min.css set `[hidden] { display: none !important; }` so we also need the `!important` here to be able to override the default hidden behavior on the sphinx rendered scikit-learn.org. See: https://github.com/scikit-learn/scikit-learn/issues/21755 */display: inline-block !important;position: relative;}#sk-container-id-3 div.sk-text-repr-fallback {display: none;}</style><div id=\"sk-container-id-3\" class=\"sk-top-container\"><div class=\"sk-text-repr-fallback\"><pre>Pipeline(steps=[(&#x27;drop_target&#x27;, DropFeatures(features_to_drop=[&#x27;attack_type&#x27;])),\n",
       "                (&#x27;outlier_removal&#x27;,\n",
       "                 Winsorizer(add_indicators=True, capping_method=&#x27;quantiles&#x27;,\n",
       "                            fold=0.01, variables=[&#x27;src_bytes&#x27;, &#x27;dst_bytes&#x27;])),\n",
       "                (&#x27;frequency_encoder&#x27;,\n",
       "                 KeepInputFeaturesWrapper(rename_suffix=&#x27;_freq&#x27;,\n",
       "                                          wrapped_transformer=CountFrequencyEncoder(encoding_method=&#x27;frequency&#x27;,\n",
       "                                                                                    unseen=&#x27;...\n",
       "                                                   &#x27;logged_in&#x27;,\n",
       "                                                   &#x27;num_compromised&#x27;,\n",
       "                                                   &#x27;root_shell&#x27;, &#x27;su_attempted&#x27;,\n",
       "                                                   &#x27;num_root&#x27;,\n",
       "                                                   &#x27;num_file_creations&#x27;,\n",
       "                                                   &#x27;num_shells&#x27;,\n",
       "                                                   &#x27;num_access_files&#x27;,\n",
       "                                                   &#x27;num_outbound_cmds&#x27;,\n",
       "                                                   &#x27;is_host_login&#x27;,\n",
       "                                                   &#x27;is_guest_login&#x27;, &#x27;count&#x27;,\n",
       "                                                   &#x27;srv_count&#x27;, &#x27;serror_rate&#x27;,\n",
       "                                                   &#x27;srv_serror_rate&#x27;,\n",
       "                                                   &#x27;rerror_rate&#x27;,\n",
       "                                                   &#x27;srv_rerror_rate&#x27;,\n",
       "                                                   &#x27;same_srv_rate&#x27;,\n",
       "                                                   &#x27;diff_srv_rate&#x27;,\n",
       "                                                   &#x27;srv_diff_host_rate&#x27;,\n",
       "                                                   &#x27;dst_host_count&#x27;,\n",
       "                                                   &#x27;dst_host_srv_count&#x27;, ...]))])</pre><b>In a Jupyter environment, please rerun this cell to show the HTML representation or trust the notebook. <br />On GitHub, the HTML representation is unable to render, please try loading this page with nbviewer.org.</b></div><div class=\"sk-container\" hidden><div class=\"sk-item sk-dashed-wrapped\"><div class=\"sk-label-container\"><div class=\"sk-label sk-toggleable\"><input class=\"sk-toggleable__control sk-hidden--visually\" id=\"sk-estimator-id-28\" type=\"checkbox\" ><label for=\"sk-estimator-id-28\" class=\"sk-toggleable__label sk-toggleable__label-arrow\">Pipeline</label><div class=\"sk-toggleable__content\"><pre>Pipeline(steps=[(&#x27;drop_target&#x27;, DropFeatures(features_to_drop=[&#x27;attack_type&#x27;])),\n",
       "                (&#x27;outlier_removal&#x27;,\n",
       "                 Winsorizer(add_indicators=True, capping_method=&#x27;quantiles&#x27;,\n",
       "                            fold=0.01, variables=[&#x27;src_bytes&#x27;, &#x27;dst_bytes&#x27;])),\n",
       "                (&#x27;frequency_encoder&#x27;,\n",
       "                 KeepInputFeaturesWrapper(rename_suffix=&#x27;_freq&#x27;,\n",
       "                                          wrapped_transformer=CountFrequencyEncoder(encoding_method=&#x27;frequency&#x27;,\n",
       "                                                                                    unseen=&#x27;...\n",
       "                                                   &#x27;logged_in&#x27;,\n",
       "                                                   &#x27;num_compromised&#x27;,\n",
       "                                                   &#x27;root_shell&#x27;, &#x27;su_attempted&#x27;,\n",
       "                                                   &#x27;num_root&#x27;,\n",
       "                                                   &#x27;num_file_creations&#x27;,\n",
       "                                                   &#x27;num_shells&#x27;,\n",
       "                                                   &#x27;num_access_files&#x27;,\n",
       "                                                   &#x27;num_outbound_cmds&#x27;,\n",
       "                                                   &#x27;is_host_login&#x27;,\n",
       "                                                   &#x27;is_guest_login&#x27;, &#x27;count&#x27;,\n",
       "                                                   &#x27;srv_count&#x27;, &#x27;serror_rate&#x27;,\n",
       "                                                   &#x27;srv_serror_rate&#x27;,\n",
       "                                                   &#x27;rerror_rate&#x27;,\n",
       "                                                   &#x27;srv_rerror_rate&#x27;,\n",
       "                                                   &#x27;same_srv_rate&#x27;,\n",
       "                                                   &#x27;diff_srv_rate&#x27;,\n",
       "                                                   &#x27;srv_diff_host_rate&#x27;,\n",
       "                                                   &#x27;dst_host_count&#x27;,\n",
       "                                                   &#x27;dst_host_srv_count&#x27;, ...]))])</pre></div></div></div><div class=\"sk-serial\"><div class=\"sk-item\"><div class=\"sk-estimator sk-toggleable\"><input class=\"sk-toggleable__control sk-hidden--visually\" id=\"sk-estimator-id-29\" type=\"checkbox\" ><label for=\"sk-estimator-id-29\" class=\"sk-toggleable__label sk-toggleable__label-arrow\">DropFeatures</label><div class=\"sk-toggleable__content\"><pre>DropFeatures(features_to_drop=[&#x27;attack_type&#x27;])</pre></div></div></div><div class=\"sk-item\"><div class=\"sk-estimator sk-toggleable\"><input class=\"sk-toggleable__control sk-hidden--visually\" id=\"sk-estimator-id-30\" type=\"checkbox\" ><label for=\"sk-estimator-id-30\" class=\"sk-toggleable__label sk-toggleable__label-arrow\">Winsorizer</label><div class=\"sk-toggleable__content\"><pre>Winsorizer(add_indicators=True, capping_method=&#x27;quantiles&#x27;, fold=0.01,\n",
       "           variables=[&#x27;src_bytes&#x27;, &#x27;dst_bytes&#x27;])</pre></div></div></div><div class=\"sk-item sk-dashed-wrapped\"><div class=\"sk-label-container\"><div class=\"sk-label sk-toggleable\"><input class=\"sk-toggleable__control sk-hidden--visually\" id=\"sk-estimator-id-31\" type=\"checkbox\" ><label for=\"sk-estimator-id-31\" class=\"sk-toggleable__label sk-toggleable__label-arrow\">frequency_encoder: KeepInputFeaturesWrapper</label><div class=\"sk-toggleable__content\"><pre>KeepInputFeaturesWrapper(rename_suffix=&#x27;_freq&#x27;,\n",
       "                         wrapped_transformer=CountFrequencyEncoder(encoding_method=&#x27;frequency&#x27;,\n",
       "                                                                   unseen=&#x27;encode&#x27;))</pre></div></div></div><div class=\"sk-parallel\"><div class=\"sk-parallel-item\"><div class=\"sk-item\"><div class=\"sk-label-container\"><div class=\"sk-label sk-toggleable\"><input class=\"sk-toggleable__control sk-hidden--visually\" id=\"sk-estimator-id-32\" type=\"checkbox\" ><label for=\"sk-estimator-id-32\" class=\"sk-toggleable__label sk-toggleable__label-arrow\">wrapped_transformer: CountFrequencyEncoder</label><div class=\"sk-toggleable__content\"><pre>CountFrequencyEncoder(encoding_method=&#x27;frequency&#x27;, unseen=&#x27;encode&#x27;)</pre></div></div></div><div class=\"sk-serial\"><div class=\"sk-item\"><div class=\"sk-estimator sk-toggleable\"><input class=\"sk-toggleable__control sk-hidden--visually\" id=\"sk-estimator-id-33\" type=\"checkbox\" ><label for=\"sk-estimator-id-33\" class=\"sk-toggleable__label sk-toggleable__label-arrow\">CountFrequencyEncoder</label><div class=\"sk-toggleable__content\"><pre>CountFrequencyEncoder(encoding_method=&#x27;frequency&#x27;, unseen=&#x27;encode&#x27;)</pre></div></div></div></div></div></div></div></div><div class=\"sk-item\"><div class=\"sk-estimator sk-toggleable\"><input class=\"sk-toggleable__control sk-hidden--visually\" id=\"sk-estimator-id-34\" type=\"checkbox\" ><label for=\"sk-estimator-id-34\" class=\"sk-toggleable__label sk-toggleable__label-arrow\">RareLabelEncoder</label><div class=\"sk-toggleable__content\"><pre>RareLabelEncoder(n_categories=2, tol=0.01)</pre></div></div></div><div class=\"sk-item\"><div class=\"sk-estimator sk-toggleable\"><input class=\"sk-toggleable__control sk-hidden--visually\" id=\"sk-estimator-id-35\" type=\"checkbox\" ><label for=\"sk-estimator-id-35\" class=\"sk-toggleable__label sk-toggleable__label-arrow\">OneHotEncoder</label><div class=\"sk-toggleable__content\"><pre>OneHotEncoder()</pre></div></div></div><div class=\"sk-item sk-dashed-wrapped\"><div class=\"sk-label-container\"><div class=\"sk-label sk-toggleable\"><input class=\"sk-toggleable__control sk-hidden--visually\" id=\"sk-estimator-id-36\" type=\"checkbox\" ><label for=\"sk-estimator-id-36\" class=\"sk-toggleable__label sk-toggleable__label-arrow\">min_max_scaler: SklearnTransformerWrapper</label><div class=\"sk-toggleable__content\"><pre>SklearnTransformerWrapper(transformer=MinMaxScaler())</pre></div></div></div><div class=\"sk-parallel\"><div class=\"sk-parallel-item\"><div class=\"sk-item\"><div class=\"sk-label-container\"><div class=\"sk-label sk-toggleable\"><input class=\"sk-toggleable__control sk-hidden--visually\" id=\"sk-estimator-id-37\" type=\"checkbox\" ><label for=\"sk-estimator-id-37\" class=\"sk-toggleable__label sk-toggleable__label-arrow\">transformer: MinMaxScaler</label><div class=\"sk-toggleable__content\"><pre>MinMaxScaler()</pre></div></div></div><div class=\"sk-serial\"><div class=\"sk-item\"><div class=\"sk-estimator sk-toggleable\"><input class=\"sk-toggleable__control sk-hidden--visually\" id=\"sk-estimator-id-38\" type=\"checkbox\" ><label for=\"sk-estimator-id-38\" class=\"sk-toggleable__label sk-toggleable__label-arrow\">MinMaxScaler</label><div class=\"sk-toggleable__content\"><pre>MinMaxScaler()</pre></div></div></div></div></div></div></div></div><div class=\"sk-item\"><div class=\"sk-estimator sk-toggleable\"><input class=\"sk-toggleable__control sk-hidden--visually\" id=\"sk-estimator-id-39\" type=\"checkbox\" ><label for=\"sk-estimator-id-39\" class=\"sk-toggleable__label sk-toggleable__label-arrow\">DropConstantFeatures</label><div class=\"sk-toggleable__content\"><pre>DropConstantFeatures(tol=0.99)</pre></div></div></div><div class=\"sk-item\"><div class=\"sk-estimator sk-toggleable\"><input class=\"sk-toggleable__control sk-hidden--visually\" id=\"sk-estimator-id-40\" type=\"checkbox\" ><label for=\"sk-estimator-id-40\" class=\"sk-toggleable__label sk-toggleable__label-arrow\">DropCorrelatedFeatures</label><div class=\"sk-toggleable__content\"><pre>DropCorrelatedFeatures(confirm_variables=True,\n",
       "                       variables=[&#x27;duration&#x27;, &#x27;src_bytes&#x27;, &#x27;dst_bytes&#x27;, &#x27;land&#x27;,\n",
       "                                  &#x27;wrong_fragment&#x27;, &#x27;urgent&#x27;, &#x27;hot&#x27;,\n",
       "                                  &#x27;num_failed_logins&#x27;, &#x27;logged_in&#x27;,\n",
       "                                  &#x27;num_compromised&#x27;, &#x27;root_shell&#x27;,\n",
       "                                  &#x27;su_attempted&#x27;, &#x27;num_root&#x27;,\n",
       "                                  &#x27;num_file_creations&#x27;, &#x27;num_shells&#x27;,\n",
       "                                  &#x27;num_access_files&#x27;, &#x27;num_outbound_cmds&#x27;,\n",
       "                                  &#x27;is_host_login&#x27;, &#x27;is_guest_login&#x27;, &#x27;count&#x27;,\n",
       "                                  &#x27;srv_count&#x27;, &#x27;serror_rate&#x27;, &#x27;srv_serror_rate&#x27;,\n",
       "                                  &#x27;rerror_rate&#x27;, &#x27;srv_rerror_rate&#x27;,\n",
       "                                  &#x27;same_srv_rate&#x27;, &#x27;diff_srv_rate&#x27;,\n",
       "                                  &#x27;srv_diff_host_rate&#x27;, &#x27;dst_host_count&#x27;,\n",
       "                                  &#x27;dst_host_srv_count&#x27;, ...])</pre></div></div></div></div></div></div></div>"
      ],
      "text/plain": [
       "Pipeline(steps=[('drop_target', DropFeatures(features_to_drop=['attack_type'])),\n",
       "                ('outlier_removal',\n",
       "                 Winsorizer(add_indicators=True, capping_method='quantiles',\n",
       "                            fold=0.01, variables=['src_bytes', 'dst_bytes'])),\n",
       "                ('frequency_encoder',\n",
       "                 KeepInputFeaturesWrapper(rename_suffix='_freq',\n",
       "                                          wrapped_transformer=CountFrequencyEncoder(encoding_method='frequency',\n",
       "                                                                                    unseen='...\n",
       "                                                   'logged_in',\n",
       "                                                   'num_compromised',\n",
       "                                                   'root_shell', 'su_attempted',\n",
       "                                                   'num_root',\n",
       "                                                   'num_file_creations',\n",
       "                                                   'num_shells',\n",
       "                                                   'num_access_files',\n",
       "                                                   'num_outbound_cmds',\n",
       "                                                   'is_host_login',\n",
       "                                                   'is_guest_login', 'count',\n",
       "                                                   'srv_count', 'serror_rate',\n",
       "                                                   'srv_serror_rate',\n",
       "                                                   'rerror_rate',\n",
       "                                                   'srv_rerror_rate',\n",
       "                                                   'same_srv_rate',\n",
       "                                                   'diff_srv_rate',\n",
       "                                                   'srv_diff_host_rate',\n",
       "                                                   'dst_host_count',\n",
       "                                                   'dst_host_srv_count', ...]))])"
      ]
     },
     "execution_count": 53,
     "metadata": {},
     "output_type": "execute_result"
    }
   ],
   "source": [
    "from sklearn.pipeline import Pipeline\n",
    "numerical_columns = df.select_dtypes(exclude=object).columns.to_list()\n",
    "\n",
    "df_target = define_target(df)\n",
    "preprocessing_pipeline = get_preprocessing_pipeline()\n",
    "feature_selection_pipeline = get_feature_selection_pipeline(numerical_columns)\n",
    "pre_model_pipeline = Pipeline(\n",
    "    [*preprocessing_pipeline.steps, *feature_selection_pipeline.steps]\n",
    ")\n",
    "pre_model_pipeline"
   ]
  },
  {
   "cell_type": "code",
   "execution_count": 54,
   "metadata": {},
   "outputs": [],
   "source": [
    "preprocessed_df = pre_model_pipeline.fit_transform(df)"
   ]
  },
  {
   "cell_type": "markdown",
   "metadata": {},
   "source": [
    "### Determine the optimal number of clusters\n",
    "\n",
    "In order to determine the optimal number of clusters, I will use the elbow technique.\n",
    "To save time, I have preprocessed the entire dataset prior to use clustering. I am aware that this can introduce potential leakages, but I think that at this stage, considering the problem we are trying to solve here, it should not be a too big of a deal."
   ]
  },
  {
   "cell_type": "code",
   "execution_count": 30,
   "metadata": {},
   "outputs": [],
   "source": [
    "from sklearn.cluster import KMeans\n",
    "from tqdm import tqdm\n",
    "\n",
    "def plot_elbow_graph(df, max_k):\n",
    "    distortions = []\n",
    "    k_range = range(1, max_k)\n",
    "    for k in tqdm(k_range):\n",
    "        kmeanModel = KMeans(n_clusters=k)\n",
    "        kmeanModel.fit(df)\n",
    "        distortions.append(kmeanModel.inertia_)\n",
    "    plt.figure(figsize=(16,8))\n",
    "    plt.plot(k_range, distortions, 'bx-')\n",
    "    plt.xlabel('k')\n",
    "    plt.ylabel('Distortion')\n",
    "    plt.title('The Elbow Method showing the optimal k')\n",
    "    plt.show()"
   ]
  },
  {
   "cell_type": "code",
   "execution_count": 32,
   "metadata": {},
   "outputs": [
    {
     "name": "stderr",
     "output_type": "stream",
     "text": [
      "100%|██████████| 9/9 [00:13<00:00,  1.49s/it]\n"
     ]
    },
    {
     "data": {
      "image/png": "[encoded data removed]",
      "text/plain": [
       "<Figure size 1600x800 with 1 Axes>"
      ]
     },
     "metadata": {},
     "output_type": "display_data"
    }
   ],
   "source": [
    "plot_elbow_graph(preprocessed_df, 10)"
   ]
  },
  {
   "cell_type": "markdown",
   "metadata": {},
   "source": [
    "From the elbow graph it would make sense to use either 3 or 5 clusters. We know that the classes here are 3 - normal, smurf and neptune, so it would make sense to use 3 clusters."
   ]
  },
  {
   "cell_type": "markdown",
   "metadata": {},
   "source": [
    "## Determine which cluster to consider as Normal"
   ]
  },
  {
   "cell_type": "code",
   "execution_count": 58,
   "metadata": {},
   "outputs": [
    {
     "data": {
      "text/html": [
       "<div>\n",
       "<style scoped>\n",
       "    .dataframe tbody tr th:only-of-type {\n",
       "        vertical-align: middle;\n",
       "    }\n",
       "\n",
       "    .dataframe tbody tr th {\n",
       "        vertical-align: top;\n",
       "    }\n",
       "\n",
       "    .dataframe thead th {\n",
       "        text-align: right;\n",
       "    }\n",
       "</style>\n",
       "<table border=\"1\" class=\"dataframe\">\n",
       "  <thead>\n",
       "    <tr style=\"text-align: right;\">\n",
       "      <th></th>\n",
       "      <th>0</th>\n",
       "    </tr>\n",
       "  </thead>\n",
       "  <tbody>\n",
       "    <tr>\n",
       "      <th>0</th>\n",
       "      <td>281400</td>\n",
       "    </tr>\n",
       "    <tr>\n",
       "      <th>1</th>\n",
       "      <td>109872</td>\n",
       "    </tr>\n",
       "    <tr>\n",
       "      <th>2</th>\n",
       "      <td>102749</td>\n",
       "    </tr>\n",
       "  </tbody>\n",
       "</table>\n",
       "</div>"
      ],
      "text/plain": [
       "        0\n",
       "0  281400\n",
       "1  109872\n",
       "2  102749"
      ]
     },
     "execution_count": 58,
     "metadata": {},
     "output_type": "execute_result"
    }
   ],
   "source": [
    "clustering_preds = KMeans(n_clusters=3).fit_predict(preprocessed_df)\n",
    "cluster_counts = pd.Series(clustering_preds).value_counts().to_frame()\n",
    "cluster_counts"
   ]
  },
  {
   "cell_type": "markdown",
   "metadata": {},
   "source": [
    "The table above shows the number of instances for each cluster.\n",
    "\n",
    "Looking at the table above, we see that the numbers make sense and that they match with what we found in the target analysis. Possible candidates for our normal class are clusters # 1 and # 2. To systematically determine the normal cluster we could calculate the silhouette score for each cluster and take the cluster with the lowest silhouette score as our normal class. This logic comes from the intuition that connections from ddos attacks are all similar and thus they are well clustered, whether other connections will be more spread apart."
   ]
  },
  {
   "cell_type": "code",
   "execution_count": 59,
   "metadata": {},
   "outputs": [
    {
     "data": {
      "text/html": [
       "<div>\n",
       "<style scoped>\n",
       "    .dataframe tbody tr th:only-of-type {\n",
       "        vertical-align: middle;\n",
       "    }\n",
       "\n",
       "    .dataframe tbody tr th {\n",
       "        vertical-align: top;\n",
       "    }\n",
       "\n",
       "    .dataframe thead th {\n",
       "        text-align: right;\n",
       "    }\n",
       "</style>\n",
       "<table border=\"1\" class=\"dataframe\">\n",
       "  <thead>\n",
       "    <tr style=\"text-align: right;\">\n",
       "      <th></th>\n",
       "      <th>0</th>\n",
       "      <th>approx_silhouette_score</th>\n",
       "    </tr>\n",
       "  </thead>\n",
       "  <tbody>\n",
       "    <tr>\n",
       "      <th>0</th>\n",
       "      <td>281400</td>\n",
       "      <td>0.971497</td>\n",
       "    </tr>\n",
       "    <tr>\n",
       "      <th>1</th>\n",
       "      <td>109872</td>\n",
       "      <td>0.685054</td>\n",
       "    </tr>\n",
       "    <tr>\n",
       "      <th>2</th>\n",
       "      <td>102749</td>\n",
       "      <td>0.378259</td>\n",
       "    </tr>\n",
       "  </tbody>\n",
       "</table>\n",
       "</div>"
      ],
      "text/plain": [
       "        0  approx_silhouette_score\n",
       "0  281400                 0.971497\n",
       "1  109872                 0.685054\n",
       "2  102749                 0.378259"
      ]
     },
     "execution_count": 59,
     "metadata": {},
     "output_type": "execute_result"
    }
   ],
   "source": [
    "from sklearn.metrics import silhouette_samples\n",
    "\n",
    "# I use a sample to calculate silhouette_scores because calculating it on the entire\n",
    "# dataset would be computationally expensive\n",
    "sample_size = 10000\n",
    "sampled_index = np.random.choice(preprocessed_df.index, sample_size, replace=False)\n",
    "silhouette_scores = silhouette_samples(\n",
    "    preprocessed_df.iloc[sampled_index], clustering_preds[sampled_index]\n",
    ")\n",
    "means_lst = []\n",
    "for label in range(3):\n",
    "    means_lst.append(silhouette_scores[clustering_preds[sampled_index] == label].mean())\n",
    "\n",
    "cluster_counts[\"approx_silhouette_score\"] = means_lst\n",
    "\n",
    "cluster_counts"
   ]
  },
  {
   "cell_type": "markdown",
   "metadata": {},
   "source": [
    "## DDOS Detector Pipeline"
   ]
  },
  {
   "cell_type": "markdown",
   "metadata": {},
   "source": [
    "Following the logic above, cluster #2 is probably our normal class because it has the lowest silhouette score.\n",
    "\n",
    "This logic above seems to work and it makes sense to me. I have wrapped it inside the class\n",
    "`intrusion_detection.modelling.ddos_detector.DDOSDetector`. I will now use it to make inference and to get the final estimation."
   ]
  },
  {
   "cell_type": "code",
   "execution_count": 38,
   "metadata": {},
   "outputs": [],
   "source": [
    "from intrusion_detection.modelling.ddos_detector import DDOSDetector"
   ]
  },
  {
   "cell_type": "code",
   "execution_count": 60,
   "metadata": {},
   "outputs": [
    {
     "data": {
      "text/html": [
       "<style>#sk-container-id-4 {color: black;background-color: white;}#sk-container-id-4 pre{padding: 0;}#sk-container-id-4 div.sk-toggleable {background-color: white;}#sk-container-id-4 label.sk-toggleable__label {cursor: pointer;display: block;width: 100%;margin-bottom: 0;padding: 0.3em;box-sizing: border-box;text-align: center;}#sk-container-id-4 label.sk-toggleable__label-arrow:before {content: \"▸\";float: left;margin-right: 0.25em;color: #696969;}#sk-container-id-4 label.sk-toggleable__label-arrow:hover:before {color: black;}#sk-container-id-4 div.sk-estimator:hover label.sk-toggleable__label-arrow:before {color: black;}#sk-container-id-4 div.sk-toggleable__content {max-height: 0;max-width: 0;overflow: hidden;text-align: left;background-color: #f0f8ff;}#sk-container-id-4 div.sk-toggleable__content pre {margin: 0.2em;color: black;border-radius: 0.25em;background-color: #f0f8ff;}#sk-container-id-4 input.sk-toggleable__control:checked~div.sk-toggleable__content {max-height: 200px;max-width: 100%;overflow: auto;}#sk-container-id-4 input.sk-toggleable__control:checked~label.sk-toggleable__label-arrow:before {content: \"▾\";}#sk-container-id-4 div.sk-estimator input.sk-toggleable__control:checked~label.sk-toggleable__label {background-color: #d4ebff;}#sk-container-id-4 div.sk-label input.sk-toggleable__control:checked~label.sk-toggleable__label {background-color: #d4ebff;}#sk-container-id-4 input.sk-hidden--visually {border: 0;clip: rect(1px 1px 1px 1px);clip: rect(1px, 1px, 1px, 1px);height: 1px;margin: -1px;overflow: hidden;padding: 0;position: absolute;width: 1px;}#sk-container-id-4 div.sk-estimator {font-family: monospace;background-color: #f0f8ff;border: 1px dotted black;border-radius: 0.25em;box-sizing: border-box;margin-bottom: 0.5em;}#sk-container-id-4 div.sk-estimator:hover {background-color: #d4ebff;}#sk-container-id-4 div.sk-parallel-item::after {content: \"\";width: 100%;border-bottom: 1px solid gray;flex-grow: 1;}#sk-container-id-4 div.sk-label:hover label.sk-toggleable__label {background-color: #d4ebff;}#sk-container-id-4 div.sk-serial::before {content: \"\";position: absolute;border-left: 1px solid gray;box-sizing: border-box;top: 0;bottom: 0;left: 50%;z-index: 0;}#sk-container-id-4 div.sk-serial {display: flex;flex-direction: column;align-items: center;background-color: white;padding-right: 0.2em;padding-left: 0.2em;position: relative;}#sk-container-id-4 div.sk-item {position: relative;z-index: 1;}#sk-container-id-4 div.sk-parallel {display: flex;align-items: stretch;justify-content: center;background-color: white;position: relative;}#sk-container-id-4 div.sk-item::before, #sk-container-id-4 div.sk-parallel-item::before {content: \"\";position: absolute;border-left: 1px solid gray;box-sizing: border-box;top: 0;bottom: 0;left: 50%;z-index: -1;}#sk-container-id-4 div.sk-parallel-item {display: flex;flex-direction: column;z-index: 1;position: relative;background-color: white;}#sk-container-id-4 div.sk-parallel-item:first-child::after {align-self: flex-end;width: 50%;}#sk-container-id-4 div.sk-parallel-item:last-child::after {align-self: flex-start;width: 50%;}#sk-container-id-4 div.sk-parallel-item:only-child::after {width: 0;}#sk-container-id-4 div.sk-dashed-wrapped {border: 1px dashed gray;margin: 0 0.4em 0.5em 0.4em;box-sizing: border-box;padding-bottom: 0.4em;background-color: white;}#sk-container-id-4 div.sk-label label {font-family: monospace;font-weight: bold;display: inline-block;line-height: 1.2em;}#sk-container-id-4 div.sk-label-container {text-align: center;}#sk-container-id-4 div.sk-container {/* jupyter's `normalize.less` sets `[hidden] { display: none; }` but bootstrap.min.css set `[hidden] { display: none !important; }` so we also need the `!important` here to be able to override the default hidden behavior on the sphinx rendered scikit-learn.org. See: https://github.com/scikit-learn/scikit-learn/issues/21755 */display: inline-block !important;position: relative;}#sk-container-id-4 div.sk-text-repr-fallback {display: none;}</style><div id=\"sk-container-id-4\" class=\"sk-top-container\"><div class=\"sk-text-repr-fallback\"><pre>Pipeline(steps=[(&#x27;drop_target&#x27;, DropFeatures(features_to_drop=[&#x27;attack_type&#x27;])),\n",
       "                (&#x27;outlier_removal&#x27;,\n",
       "                 Winsorizer(add_indicators=True, capping_method=&#x27;quantiles&#x27;,\n",
       "                            fold=0.01, variables=[&#x27;src_bytes&#x27;, &#x27;dst_bytes&#x27;])),\n",
       "                (&#x27;frequency_encoder&#x27;,\n",
       "                 KeepInputFeaturesWrapper(rename_suffix=&#x27;_freq&#x27;,\n",
       "                                          wrapped_transformer=CountFrequencyEncoder(encoding_method=&#x27;frequency&#x27;,\n",
       "                                                                                    unseen=&#x27;...\n",
       "                                                   &#x27;root_shell&#x27;, &#x27;su_attempted&#x27;,\n",
       "                                                   &#x27;num_root&#x27;,\n",
       "                                                   &#x27;num_file_creations&#x27;,\n",
       "                                                   &#x27;num_shells&#x27;,\n",
       "                                                   &#x27;num_access_files&#x27;,\n",
       "                                                   &#x27;num_outbound_cmds&#x27;,\n",
       "                                                   &#x27;is_host_login&#x27;,\n",
       "                                                   &#x27;is_guest_login&#x27;, &#x27;count&#x27;,\n",
       "                                                   &#x27;srv_count&#x27;, &#x27;serror_rate&#x27;,\n",
       "                                                   &#x27;srv_serror_rate&#x27;,\n",
       "                                                   &#x27;rerror_rate&#x27;,\n",
       "                                                   &#x27;srv_rerror_rate&#x27;,\n",
       "                                                   &#x27;same_srv_rate&#x27;,\n",
       "                                                   &#x27;diff_srv_rate&#x27;,\n",
       "                                                   &#x27;srv_diff_host_rate&#x27;,\n",
       "                                                   &#x27;dst_host_count&#x27;,\n",
       "                                                   &#x27;dst_host_srv_count&#x27;, ...])),\n",
       "                (&#x27;model&#x27;, DDOSDetector())])</pre><b>In a Jupyter environment, please rerun this cell to show the HTML representation or trust the notebook. <br />On GitHub, the HTML representation is unable to render, please try loading this page with nbviewer.org.</b></div><div class=\"sk-container\" hidden><div class=\"sk-item sk-dashed-wrapped\"><div class=\"sk-label-container\"><div class=\"sk-label sk-toggleable\"><input class=\"sk-toggleable__control sk-hidden--visually\" id=\"sk-estimator-id-41\" type=\"checkbox\" ><label for=\"sk-estimator-id-41\" class=\"sk-toggleable__label sk-toggleable__label-arrow\">Pipeline</label><div class=\"sk-toggleable__content\"><pre>Pipeline(steps=[(&#x27;drop_target&#x27;, DropFeatures(features_to_drop=[&#x27;attack_type&#x27;])),\n",
       "                (&#x27;outlier_removal&#x27;,\n",
       "                 Winsorizer(add_indicators=True, capping_method=&#x27;quantiles&#x27;,\n",
       "                            fold=0.01, variables=[&#x27;src_bytes&#x27;, &#x27;dst_bytes&#x27;])),\n",
       "                (&#x27;frequency_encoder&#x27;,\n",
       "                 KeepInputFeaturesWrapper(rename_suffix=&#x27;_freq&#x27;,\n",
       "                                          wrapped_transformer=CountFrequencyEncoder(encoding_method=&#x27;frequency&#x27;,\n",
       "                                                                                    unseen=&#x27;...\n",
       "                                                   &#x27;root_shell&#x27;, &#x27;su_attempted&#x27;,\n",
       "                                                   &#x27;num_root&#x27;,\n",
       "                                                   &#x27;num_file_creations&#x27;,\n",
       "                                                   &#x27;num_shells&#x27;,\n",
       "                                                   &#x27;num_access_files&#x27;,\n",
       "                                                   &#x27;num_outbound_cmds&#x27;,\n",
       "                                                   &#x27;is_host_login&#x27;,\n",
       "                                                   &#x27;is_guest_login&#x27;, &#x27;count&#x27;,\n",
       "                                                   &#x27;srv_count&#x27;, &#x27;serror_rate&#x27;,\n",
       "                                                   &#x27;srv_serror_rate&#x27;,\n",
       "                                                   &#x27;rerror_rate&#x27;,\n",
       "                                                   &#x27;srv_rerror_rate&#x27;,\n",
       "                                                   &#x27;same_srv_rate&#x27;,\n",
       "                                                   &#x27;diff_srv_rate&#x27;,\n",
       "                                                   &#x27;srv_diff_host_rate&#x27;,\n",
       "                                                   &#x27;dst_host_count&#x27;,\n",
       "                                                   &#x27;dst_host_srv_count&#x27;, ...])),\n",
       "                (&#x27;model&#x27;, DDOSDetector())])</pre></div></div></div><div class=\"sk-serial\"><div class=\"sk-item\"><div class=\"sk-estimator sk-toggleable\"><input class=\"sk-toggleable__control sk-hidden--visually\" id=\"sk-estimator-id-42\" type=\"checkbox\" ><label for=\"sk-estimator-id-42\" class=\"sk-toggleable__label sk-toggleable__label-arrow\">DropFeatures</label><div class=\"sk-toggleable__content\"><pre>DropFeatures(features_to_drop=[&#x27;attack_type&#x27;])</pre></div></div></div><div class=\"sk-item\"><div class=\"sk-estimator sk-toggleable\"><input class=\"sk-toggleable__control sk-hidden--visually\" id=\"sk-estimator-id-43\" type=\"checkbox\" ><label for=\"sk-estimator-id-43\" class=\"sk-toggleable__label sk-toggleable__label-arrow\">Winsorizer</label><div class=\"sk-toggleable__content\"><pre>Winsorizer(add_indicators=True, capping_method=&#x27;quantiles&#x27;, fold=0.01,\n",
       "           variables=[&#x27;src_bytes&#x27;, &#x27;dst_bytes&#x27;])</pre></div></div></div><div class=\"sk-item sk-dashed-wrapped\"><div class=\"sk-label-container\"><div class=\"sk-label sk-toggleable\"><input class=\"sk-toggleable__control sk-hidden--visually\" id=\"sk-estimator-id-44\" type=\"checkbox\" ><label for=\"sk-estimator-id-44\" class=\"sk-toggleable__label sk-toggleable__label-arrow\">frequency_encoder: KeepInputFeaturesWrapper</label><div class=\"sk-toggleable__content\"><pre>KeepInputFeaturesWrapper(rename_suffix=&#x27;_freq&#x27;,\n",
       "                         wrapped_transformer=CountFrequencyEncoder(encoding_method=&#x27;frequency&#x27;,\n",
       "                                                                   unseen=&#x27;encode&#x27;))</pre></div></div></div><div class=\"sk-parallel\"><div class=\"sk-parallel-item\"><div class=\"sk-item\"><div class=\"sk-label-container\"><div class=\"sk-label sk-toggleable\"><input class=\"sk-toggleable__control sk-hidden--visually\" id=\"sk-estimator-id-45\" type=\"checkbox\" ><label for=\"sk-estimator-id-45\" class=\"sk-toggleable__label sk-toggleable__label-arrow\">wrapped_transformer: CountFrequencyEncoder</label><div class=\"sk-toggleable__content\"><pre>CountFrequencyEncoder(encoding_method=&#x27;frequency&#x27;, unseen=&#x27;encode&#x27;)</pre></div></div></div><div class=\"sk-serial\"><div class=\"sk-item\"><div class=\"sk-estimator sk-toggleable\"><input class=\"sk-toggleable__control sk-hidden--visually\" id=\"sk-estimator-id-46\" type=\"checkbox\" ><label for=\"sk-estimator-id-46\" class=\"sk-toggleable__label sk-toggleable__label-arrow\">CountFrequencyEncoder</label><div class=\"sk-toggleable__content\"><pre>CountFrequencyEncoder(encoding_method=&#x27;frequency&#x27;, unseen=&#x27;encode&#x27;)</pre></div></div></div></div></div></div></div></div><div class=\"sk-item\"><div class=\"sk-estimator sk-toggleable\"><input class=\"sk-toggleable__control sk-hidden--visually\" id=\"sk-estimator-id-47\" type=\"checkbox\" ><label for=\"sk-estimator-id-47\" class=\"sk-toggleable__label sk-toggleable__label-arrow\">RareLabelEncoder</label><div class=\"sk-toggleable__content\"><pre>RareLabelEncoder(n_categories=2, tol=0.01)</pre></div></div></div><div class=\"sk-item\"><div class=\"sk-estimator sk-toggleable\"><input class=\"sk-toggleable__control sk-hidden--visually\" id=\"sk-estimator-id-48\" type=\"checkbox\" ><label for=\"sk-estimator-id-48\" class=\"sk-toggleable__label sk-toggleable__label-arrow\">OneHotEncoder</label><div class=\"sk-toggleable__content\"><pre>OneHotEncoder()</pre></div></div></div><div class=\"sk-item sk-dashed-wrapped\"><div class=\"sk-label-container\"><div class=\"sk-label sk-toggleable\"><input class=\"sk-toggleable__control sk-hidden--visually\" id=\"sk-estimator-id-49\" type=\"checkbox\" ><label for=\"sk-estimator-id-49\" class=\"sk-toggleable__label sk-toggleable__label-arrow\">min_max_scaler: SklearnTransformerWrapper</label><div class=\"sk-toggleable__content\"><pre>SklearnTransformerWrapper(transformer=MinMaxScaler())</pre></div></div></div><div class=\"sk-parallel\"><div class=\"sk-parallel-item\"><div class=\"sk-item\"><div class=\"sk-label-container\"><div class=\"sk-label sk-toggleable\"><input class=\"sk-toggleable__control sk-hidden--visually\" id=\"sk-estimator-id-50\" type=\"checkbox\" ><label for=\"sk-estimator-id-50\" class=\"sk-toggleable__label sk-toggleable__label-arrow\">transformer: MinMaxScaler</label><div class=\"sk-toggleable__content\"><pre>MinMaxScaler()</pre></div></div></div><div class=\"sk-serial\"><div class=\"sk-item\"><div class=\"sk-estimator sk-toggleable\"><input class=\"sk-toggleable__control sk-hidden--visually\" id=\"sk-estimator-id-51\" type=\"checkbox\" ><label for=\"sk-estimator-id-51\" class=\"sk-toggleable__label sk-toggleable__label-arrow\">MinMaxScaler</label><div class=\"sk-toggleable__content\"><pre>MinMaxScaler()</pre></div></div></div></div></div></div></div></div><div class=\"sk-item\"><div class=\"sk-estimator sk-toggleable\"><input class=\"sk-toggleable__control sk-hidden--visually\" id=\"sk-estimator-id-52\" type=\"checkbox\" ><label for=\"sk-estimator-id-52\" class=\"sk-toggleable__label sk-toggleable__label-arrow\">DropConstantFeatures</label><div class=\"sk-toggleable__content\"><pre>DropConstantFeatures(tol=0.99)</pre></div></div></div><div class=\"sk-item\"><div class=\"sk-estimator sk-toggleable\"><input class=\"sk-toggleable__control sk-hidden--visually\" id=\"sk-estimator-id-53\" type=\"checkbox\" ><label for=\"sk-estimator-id-53\" class=\"sk-toggleable__label sk-toggleable__label-arrow\">DropCorrelatedFeatures</label><div class=\"sk-toggleable__content\"><pre>DropCorrelatedFeatures(confirm_variables=True,\n",
       "                       variables=[&#x27;duration&#x27;, &#x27;src_bytes&#x27;, &#x27;dst_bytes&#x27;, &#x27;land&#x27;,\n",
       "                                  &#x27;wrong_fragment&#x27;, &#x27;urgent&#x27;, &#x27;hot&#x27;,\n",
       "                                  &#x27;num_failed_logins&#x27;, &#x27;logged_in&#x27;,\n",
       "                                  &#x27;num_compromised&#x27;, &#x27;root_shell&#x27;,\n",
       "                                  &#x27;su_attempted&#x27;, &#x27;num_root&#x27;,\n",
       "                                  &#x27;num_file_creations&#x27;, &#x27;num_shells&#x27;,\n",
       "                                  &#x27;num_access_files&#x27;, &#x27;num_outbound_cmds&#x27;,\n",
       "                                  &#x27;is_host_login&#x27;, &#x27;is_guest_login&#x27;, &#x27;count&#x27;,\n",
       "                                  &#x27;srv_count&#x27;, &#x27;serror_rate&#x27;, &#x27;srv_serror_rate&#x27;,\n",
       "                                  &#x27;rerror_rate&#x27;, &#x27;srv_rerror_rate&#x27;,\n",
       "                                  &#x27;same_srv_rate&#x27;, &#x27;diff_srv_rate&#x27;,\n",
       "                                  &#x27;srv_diff_host_rate&#x27;, &#x27;dst_host_count&#x27;,\n",
       "                                  &#x27;dst_host_srv_count&#x27;, ...])</pre></div></div></div><div class=\"sk-item\"><div class=\"sk-estimator sk-toggleable\"><input class=\"sk-toggleable__control sk-hidden--visually\" id=\"sk-estimator-id-54\" type=\"checkbox\" ><label for=\"sk-estimator-id-54\" class=\"sk-toggleable__label sk-toggleable__label-arrow\">DDOSDetector</label><div class=\"sk-toggleable__content\"><pre>DDOSDetector()</pre></div></div></div></div></div></div></div>"
      ],
      "text/plain": [
       "Pipeline(steps=[('drop_target', DropFeatures(features_to_drop=['attack_type'])),\n",
       "                ('outlier_removal',\n",
       "                 Winsorizer(add_indicators=True, capping_method='quantiles',\n",
       "                            fold=0.01, variables=['src_bytes', 'dst_bytes'])),\n",
       "                ('frequency_encoder',\n",
       "                 KeepInputFeaturesWrapper(rename_suffix='_freq',\n",
       "                                          wrapped_transformer=CountFrequencyEncoder(encoding_method='frequency',\n",
       "                                                                                    unseen='...\n",
       "                                                   'root_shell', 'su_attempted',\n",
       "                                                   'num_root',\n",
       "                                                   'num_file_creations',\n",
       "                                                   'num_shells',\n",
       "                                                   'num_access_files',\n",
       "                                                   'num_outbound_cmds',\n",
       "                                                   'is_host_login',\n",
       "                                                   'is_guest_login', 'count',\n",
       "                                                   'srv_count', 'serror_rate',\n",
       "                                                   'srv_serror_rate',\n",
       "                                                   'rerror_rate',\n",
       "                                                   'srv_rerror_rate',\n",
       "                                                   'same_srv_rate',\n",
       "                                                   'diff_srv_rate',\n",
       "                                                   'srv_diff_host_rate',\n",
       "                                                   'dst_host_count',\n",
       "                                                   'dst_host_srv_count', ...])),\n",
       "                ('model', DDOSDetector())])"
      ]
     },
     "execution_count": 60,
     "metadata": {},
     "output_type": "execute_result"
    }
   ],
   "source": [
    "ddos_detector_pipeline = Pipeline(\n",
    "    [*preprocessing_pipeline.steps, *feature_selection_pipeline.steps, (\"model\", DDOSDetector())]\n",
    ")\n",
    "ddos_detector_pipeline"
   ]
  },
  {
   "cell_type": "markdown",
   "metadata": {},
   "source": [
    "## Training Pipeline"
   ]
  },
  {
   "cell_type": "code",
   "execution_count": 44,
   "metadata": {},
   "outputs": [],
   "source": [
    "target_columns = [col for col in df_target.columns if \"target\" in col]\n",
    "X = df_target.drop(target_columns, axis=1)\n",
    "y = df_target[\"target_ddos\"]"
   ]
  },
  {
   "cell_type": "code",
   "execution_count": 42,
   "metadata": {},
   "outputs": [],
   "source": [
    "from sklearn.model_selection import cross_val_predict\n",
    "cross_val_predictions = cross_val_predict(ddos_detector_pipeline, X, cv=10)"
   ]
  },
  {
   "cell_type": "markdown",
   "metadata": {},
   "source": [
    "## Evaluation"
   ]
  },
  {
   "cell_type": "code",
   "execution_count": 45,
   "metadata": {},
   "outputs": [
    {
     "data": {
      "text/plain": [
       "<sklearn.metrics._plot.confusion_matrix.ConfusionMatrixDisplay at 0x143f22f70>"
      ]
     },
     "execution_count": 45,
     "metadata": {},
     "output_type": "execute_result"
    },
    {
     "data": {
      "image/png": "[encoded data removed]",
      "text/plain": [
       "<Figure size 640x480 with 2 Axes>"
      ]
     },
     "metadata": {},
     "output_type": "display_data"
    }
   ],
   "source": [
    "from sklearn.metrics import ConfusionMatrixDisplay\n",
    "\n",
    "ConfusionMatrixDisplay.from_predictions(\n",
    "   y, cross_val_predictions\n",
    ")\n"
   ]
  },
  {
   "cell_type": "code",
   "execution_count": 49,
   "metadata": {},
   "outputs": [
    {
     "data": {
      "text/markdown": [
       "- f1_score = 0.995\n",
       "- precision = 0.990\n",
       "- recall = 1.000"
      ],
      "text/plain": [
       "<IPython.core.display.Markdown object>"
      ]
     },
     "metadata": {},
     "output_type": "display_data"
    }
   ],
   "source": [
    "from sklearn.metrics import f1_score, precision_score, recall_score\n",
    "\n",
    "f1 = f1_score(y, cross_val_predictions)\n",
    "precision = precision_score(y, cross_val_predictions)\n",
    "recall = recall_score(y, cross_val_predictions)\n",
    "\n",
    "display(Markdown(f\"- f1_score = {f1:.3f}\\n- precision = {precision:.3f}\\n- recall = {recall:.3f}\"))"
   ]
  },
  {
   "cell_type": "markdown",
   "metadata": {},
   "source": [
    "The results above seem very good. Even suspiciously good. I swear that I tried to find possible leakages, but at the time of writing I could not. This is a synthetic dataset and there could be a feature that predicts surprisingly good for DDOS attacks, or there might be a bug in the code that I did not spot yet. Either way, I will take these results for good and move on.\n",
    "\n",
    "On a different note, we see from the confusion matrix that this introduces almost 4k of false positives. This might not be very relevant in predicting DDOS attacks, however they will heavily deteriorate the performance of the overall model, which aims at detecting very rare classes."
   ]
  },
  {
   "cell_type": "markdown",
   "metadata": {},
   "source": [
    "## Limitations\n",
    "\n",
    "It is worth noticing that `smurf` and `neptune` are not the only two exiting types of DDOS attacks. The fact that we are modelling our DDOS predictor in this way heavily impacts the ability of our model to detect and prevent other types of DDOS attacks."
   ]
  }
 ],
 "metadata": {
  "kernelspec": {
   "display_name": "Python 3.9.6 ('venv': venv)",
   "language": "python",
   "name": "python3"
  },
  "language_info": {
   "codemirror_mode": {
    "name": "ipython",
    "version": 3
   },
   "file_extension": ".py",
   "mimetype": "text/x-python",
   "name": "python",
   "nbconvert_exporter": "python",
   "pygments_lexer": "ipython3",
   "version": "3.9.6"
  },
  "vscode": {
   "interpreter": {
    "hash": "ff92547e1d368a3302a3ae57168bd2315f6bfa79a98386bac1d969d0e862195d"
   }
  }
 },
 "nbformat": 4,
 "nbformat_minor": 4
}
